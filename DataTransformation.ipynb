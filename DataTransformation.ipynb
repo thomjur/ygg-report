{
 "cells": [
  {
   "cell_type": "code",
   "execution_count": 1,
   "id": "5ffb7ac5",
   "metadata": {},
   "outputs": [],
   "source": [
    "import glob\n",
    "import pandas as pd\n",
    "import email\n",
    "from email import policy\n",
    "from src.parser.MailTextParser import parse_mime_tree\n",
    "from src.parser.MailSubjectParser import parse_mime_subject\n",
    "from src.parser.MailSenderParser import parse_mime_sender\n",
    "from typing import Dict, List, Optional, Tuple"
   ]
  },
  {
   "cell_type": "markdown",
   "id": "0d691d97-e72c-4148-bd2b-2a6dda2145ab",
   "metadata": {},
   "source": [
    "## TODO\n",
    "\n",
    "1. Mail Distribution YEAR, MONTH\n",
    "2. SUBJECT ANALYSIS\n",
    "3. SENDER ANALYSIS (cleaning first)\n",
    "4. TEXT ANALYSIS (cleaning first)"
   ]
  },
  {
   "cell_type": "markdown",
   "id": "2d391718-b77c-47b6-927e-033f92c97785",
   "metadata": {},
   "source": [
    "## Helper stuff\n"
   ]
  },
  {
   "cell_type": "code",
   "execution_count": 2,
   "id": "ba0e3dd7-7411-4f11-9236-7cbc4e7f74a0",
   "metadata": {},
   "outputs": [],
   "source": [
    "MONTH_MAPPING = {\n",
    "    \"01\": \"JAN\",\n",
    "    \"02\": \"FEB\",\n",
    "    \"03\": \"MAR\",\n",
    "    \"04\": \"APR\",\n",
    "    \"05\": \"MAI\",\n",
    "    \"06\": \"JUN\",\n",
    "    \"07\": \"JUL\",\n",
    "    \"08\": \"AUG\",\n",
    "    \"09\": \"SEP\",\n",
    "    \"10\": \"OCT\",\n",
    "    \"11\": \"NOV\",\n",
    "    \"12\": \"DEC\"\n",
    "}"
   ]
  },
  {
   "cell_type": "code",
   "execution_count": 3,
   "id": "8972551a-da0b-4030-a6fd-df9fc774c28b",
   "metadata": {},
   "outputs": [],
   "source": [
    "def guess_encoding(file_path):\n",
    "    encodings = ['utf-8', 'iso-8859-1', 'windows-1252']  # Add more as needed\n",
    "    for enc in encodings:\n",
    "        try:\n",
    "            with open(file_path, encoding=enc) as file:\n",
    "                file.read()\n",
    "                return enc\n",
    "        except UnicodeDecodeError:\n",
    "            continue\n",
    "    return None"
   ]
  },
  {
   "cell_type": "markdown",
   "id": "dd77a87d-36a7-484b-9909-e5d6ec933330",
   "metadata": {},
   "source": [
    "## MAIN FUNCTIONS"
   ]
  },
  {
   "cell_type": "code",
   "execution_count": 19,
   "id": "a3d72e7b",
   "metadata": {},
   "outputs": [],
   "source": [
    "def get_emails_from_folder(year_range: Tuple[int,int]) -> Dict[int, Dict[str, Dict[int, email.message.Message]]]:\n",
    "    '''Get all emails from email folders stored under data/.\n",
    "\n",
    "        Parameters\n",
    "        ----------\n",
    "            year_range: Tuple(int,int)\n",
    "                The year range, where starting year is _inclusive_ and end year is _exclusive_.\n",
    "\n",
    "        Returns\n",
    "        -------\n",
    "            (Dict) \n",
    "            \n",
    "            {\n",
    "                YEAR: {\n",
    "                    MONTH: {\n",
    "                        1: <email.message.Message>\n",
    "                    }\n",
    "                    ...\n",
    "                }\n",
    "            }\n",
    "    '''\n",
    "    emails = dict()\n",
    "    counter = 0\n",
    "    for year in range(year_range[0],year_range[1]):\n",
    "        emails[year] = dict()\n",
    "        for month in MONTH_MAPPING:\n",
    "            emails[year][month] = dict()\n",
    "            for idx, file in enumerate(glob.glob(f\"data/{year}/yggdrasill_{year}-{month}/*\")):\n",
    "                # guess encoding first, since there are quite a few non-UTF-8 mails\n",
    "                enc = guess_encoding(file)\n",
    "                with open(file, \"r\", encoding=enc) as f:\n",
    "                    emails[year][month][idx] = email.message_from_file(f, policy=policy.default) # the policy-default is very important for subject titles\n",
    "                    counter += 1\n",
    "    print(f\"Received {counter} emails from {year_range[0]} to {year_range[1]-1}.\") \n",
    "    return emails"
   ]
  },
  {
   "cell_type": "code",
   "execution_count": 5,
   "id": "d3962d0e",
   "metadata": {},
   "outputs": [
    {
     "name": "stdout",
     "output_type": "stream",
     "text": [
      "Received 598 emails from 1997 to 1999.\n"
     ]
    }
   ],
   "source": [
    "emails = get_emails_from_folder((1997,2000))"
   ]
  },
  {
   "cell_type": "code",
   "execution_count": null,
   "id": "bba5bc1c",
   "metadata": {},
   "outputs": [],
   "source": [
    "#emails"
   ]
  },
  {
   "cell_type": "code",
   "execution_count": 20,
   "id": "e2b17094",
   "metadata": {},
   "outputs": [],
   "source": [
    "def get_content_from_emails(email_dict: Dict[int, Dict[str, Dict[int, email.message.Message]]]) -> Dict:\n",
    "    '''Extract CONTENT, SUBJECT, SENDER from emails retrieved via get_emails_from_folder().\n",
    "\n",
    "        Parameters\n",
    "        ----------\n",
    "            email_dict: Dict[str, Dict[str, Dict[int, email.message.Message]]\n",
    "                The dictionary with emails, retrieved using get_emails_from_folder().\n",
    "\n",
    "        Returns\n",
    "        -------\n",
    "            (Dict) \n",
    "            \n",
    "            {\n",
    "                YEAR: {\n",
    "                    MONTH: {\n",
    "                        1: {\n",
    "                            \"subject\": \"<SUBJECT>\",\n",
    "                            \"text\": \"<TEXT>\",\n",
    "                            \"sender\": \"<SENDER>\"\n",
    "                        }\n",
    "                        ...\n",
    "                        \"counter\": <INT>\n",
    "                    }\n",
    "                    ...\n",
    "                    \"counter\": <INT>\n",
    "                }\n",
    "                \"counter\": <INT>\n",
    "            }\n",
    "    '''\n",
    "    emails = dict()\n",
    "    counter = 0\n",
    "    for year in email_dict:\n",
    "        counter_year = 0\n",
    "        emails[year] = dict()\n",
    "        for month in email_dict[year]:\n",
    "            counter_month = 0\n",
    "            emails[year][month] = dict()\n",
    "            for idx, mail in email_dict[year][month].items():\n",
    "                text = parse_mime_tree(mail)\n",
    "                sender = parse_mime_sender(mail)\n",
    "                subject = parse_mime_subject(mail)\n",
    "                emails[year][month][idx] = {\n",
    "                    \"text\": text,\n",
    "                    \"subject\": subject,\n",
    "                    \"sender\": sender\n",
    "                }\n",
    "                # incrementing counters\n",
    "                counter += 1\n",
    "                counter_year += 1\n",
    "                counter_month += 1\n",
    "            emails[year][month][\"counter\"] = counter_month\n",
    "        emails[year][\"counter\"] = counter_year\n",
    "    emails[\"counter\"] = counter\n",
    "    return emails"
   ]
  },
  {
   "cell_type": "code",
   "execution_count": 14,
   "id": "a8590990",
   "metadata": {},
   "outputs": [],
   "source": [
    "content = get_content_from_emails(emails)"
   ]
  },
  {
   "cell_type": "code",
   "execution_count": 26,
   "id": "26e63bc4",
   "metadata": {},
   "outputs": [
    {
     "data": {
      "text/plain": [
       "127"
      ]
     },
     "execution_count": 26,
     "metadata": {},
     "output_type": "execute_result"
    }
   ],
   "source": [
    "content[1999][\"counter\"]"
   ]
  },
  {
   "cell_type": "code",
   "execution_count": 33,
   "id": "320e13c0",
   "metadata": {},
   "outputs": [],
   "source": [
    "# sanity check\n",
    "sum_ = 0\n",
    "for y in content:\n",
    "    if type(y) == int:\n",
    "        for m in content[y]:\n",
    "            if m != \"counter\":\n",
    "                sum_ += content[y][m][\"counter\"]\n",
    "\n",
    "assert sum_ == content[\"counter\"]"
   ]
  },
  {
   "cell_type": "code",
   "execution_count": 30,
   "id": "428dcb06",
   "metadata": {},
   "outputs": [
    {
     "data": {
      "text/plain": [
       "598"
      ]
     },
     "execution_count": 30,
     "metadata": {},
     "output_type": "execute_result"
    }
   ],
   "source": []
  },
  {
   "cell_type": "code",
   "execution_count": null,
   "id": "07ecb6b2",
   "metadata": {},
   "outputs": [],
   "source": []
  },
  {
   "cell_type": "code",
   "execution_count": null,
   "id": "12fbcdb9",
   "metadata": {},
   "outputs": [],
   "source": []
  }
 ],
 "metadata": {
  "kernelspec": {
   "display_name": "Python 3 (ipykernel)",
   "language": "python",
   "name": "python3"
  },
  "language_info": {
   "codemirror_mode": {
    "name": "ipython",
    "version": 3
   },
   "file_extension": ".py",
   "mimetype": "text/x-python",
   "name": "python",
   "nbconvert_exporter": "python",
   "pygments_lexer": "ipython3",
   "version": "3.12.0"
  }
 },
 "nbformat": 4,
 "nbformat_minor": 5
}
