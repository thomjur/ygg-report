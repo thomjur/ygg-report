{
 "cells": [
  {
   "cell_type": "code",
   "execution_count": 77,
   "id": "5ffb7ac5",
   "metadata": {},
   "outputs": [],
   "source": [
    "import glob\n",
    "import pandas as pd\n",
    "import email\n",
    "from email import policy\n",
    "from src.parser.MailTextParser import parse_mime_tree\n",
    "from src.parser.MailSubjectParser import parse_mime_subject\n",
    "from src.parser.MailSenderParser import parse_mime_sender\n",
    "from typing import Dict, List, Optional, Tuple, Union\n",
    "import re"
   ]
  },
  {
   "cell_type": "markdown",
   "id": "0d691d97-e72c-4148-bd2b-2a6dda2145ab",
   "metadata": {},
   "source": [
    "## TODO\n",
    "\n",
    "1. Mail Distribution YEAR, MONTH\n",
    "2. SUBJECT ANALYSIS\n",
    "3. SENDER ANALYSIS (cleaning first)\n",
    "4. TEXT ANALYSIS (cleaning first)"
   ]
  },
  {
   "cell_type": "markdown",
   "id": "2d391718-b77c-47b6-927e-033f92c97785",
   "metadata": {},
   "source": [
    "## Helper stuff\n"
   ]
  },
  {
   "cell_type": "code",
   "execution_count": 2,
   "id": "ba0e3dd7-7411-4f11-9236-7cbc4e7f74a0",
   "metadata": {},
   "outputs": [],
   "source": [
    "MONTH_MAPPING = {\n",
    "    \"01\": \"JAN\",\n",
    "    \"02\": \"FEB\",\n",
    "    \"03\": \"MAR\",\n",
    "    \"04\": \"APR\",\n",
    "    \"05\": \"MAI\",\n",
    "    \"06\": \"JUN\",\n",
    "    \"07\": \"JUL\",\n",
    "    \"08\": \"AUG\",\n",
    "    \"09\": \"SEP\",\n",
    "    \"10\": \"OCT\",\n",
    "    \"11\": \"NOV\",\n",
    "    \"12\": \"DEC\"\n",
    "}"
   ]
  },
  {
   "cell_type": "code",
   "execution_count": 49,
   "id": "8972551a-da0b-4030-a6fd-df9fc774c28b",
   "metadata": {},
   "outputs": [],
   "source": [
    "def guess_encoding(file_path):\n",
    "    encodings = ['utf-8', 'iso-8859-1', 'windows-1252']  # Add more as needed\n",
    "    for enc in encodings:\n",
    "        try:\n",
    "            with open(file_path, encoding=enc) as file:\n",
    "                content = file.read()\n",
    "                if content == None:\n",
    "                    print(\"NONE\")\n",
    "                return enc\n",
    "        except UnicodeDecodeError:\n",
    "            continue\n",
    "    print(f\"Could not open {file_path}. Maybe wrong encoding?\")\n",
    "    return None"
   ]
  },
  {
   "cell_type": "markdown",
   "id": "dd77a87d-36a7-484b-9909-e5d6ec933330",
   "metadata": {},
   "source": [
    "## MAIN FUNCTIONS"
   ]
  },
  {
   "cell_type": "code",
   "execution_count": 52,
   "id": "a3d72e7b",
   "metadata": {},
   "outputs": [],
   "source": [
    "def get_emails_from_folder(year_range: Tuple[int,int]) -> Dict[int, Dict[str, Dict[int, email.message.Message]]]:\n",
    "    '''Get all emails from email folders stored under data/.\n",
    "\n",
    "        Parameters\n",
    "        ----------\n",
    "            year_range: Tuple(int,int)\n",
    "                The year range, where starting year is _inclusive_ and end year is _exclusive_.\n",
    "\n",
    "        Returns\n",
    "        -------\n",
    "            (Dict) \n",
    "            \n",
    "            {\n",
    "                YEAR: {\n",
    "                    MONTH: {\n",
    "                        1: <email.message.Message>\n",
    "                    }\n",
    "                    ...\n",
    "                }\n",
    "            }\n",
    "    '''\n",
    "    emails = dict()\n",
    "    counter = 0\n",
    "    for year in range(year_range[0],year_range[1]):\n",
    "        emails[year] = dict()\n",
    "        for month in MONTH_MAPPING:\n",
    "            emails[year][month] = dict()\n",
    "            for idx, file in enumerate(glob.glob(f\"data/{year}/yggdrasill_{year}-{month}/*\")):\n",
    "                # guess encoding first, since there are quite a few non-UTF-8 mails\n",
    "                enc = guess_encoding(file)\n",
    "                with open(file, \"r\", encoding=enc) as f:\n",
    "                    emails[year][month][idx] = email.message_from_file(f, policy=policy.default) # the policy-default is very important for subject titles\n",
    "                    # check if message has been parsed correctly\n",
    "                    if emails[year][month][idx].keys() == []:\n",
    "                        print(f\"Issue with mail!\")\n",
    "                        print(file)                            \n",
    "                counter += 1\n",
    "    print(f\"Received {counter} emails from {year_range[0]} to {year_range[1]-1}.\") \n",
    "    return emails"
   ]
  },
  {
   "cell_type": "code",
   "execution_count": 69,
   "id": "d3962d0e",
   "metadata": {},
   "outputs": [
    {
     "name": "stdout",
     "output_type": "stream",
     "text": [
      "Received 598 emails from 1997 to 1999.\n"
     ]
    }
   ],
   "source": [
    "emails = get_emails_from_folder((1997,2000))"
   ]
  },
  {
   "cell_type": "code",
   "execution_count": 58,
   "id": "758768bf-1e80-4114-b9a2-a75eb0be5a6d",
   "metadata": {},
   "outputs": [],
   "source": [
    "## save emails\n",
    "import pickle\n",
    "\n",
    "with open(\"storage.pkl\", \"wb\") as f:\n",
    "    pickle.dump(emails, f)"
   ]
  },
  {
   "cell_type": "code",
   "execution_count": 7,
   "id": "efb8b627-e910-4062-9d67-211e3358d8cb",
   "metadata": {},
   "outputs": [],
   "source": [
    "import pickle\n",
    "\n",
    "with open(\"storage.pkl\", \"rb\") as f:\n",
    "    emails = pickle.load(f)"
   ]
  },
  {
   "cell_type": "code",
   "execution_count": 8,
   "id": "bba5bc1c",
   "metadata": {},
   "outputs": [],
   "source": [
    "#emails"
   ]
  },
  {
   "cell_type": "code",
   "execution_count": 59,
   "id": "e2b17094",
   "metadata": {},
   "outputs": [],
   "source": [
    "def get_content_from_emails(email_dict: Dict[int, Dict[str, Dict[int, email.message.Message]]]) -> Dict:\n",
    "    '''Extract CONTENT, SUBJECT, SENDER from emails retrieved via get_emails_from_folder().\n",
    "\n",
    "        Parameters\n",
    "        ----------\n",
    "            email_dict: Dict[str, Dict[str, Dict[int, email.message.Message]]\n",
    "                The dictionary with emails, retrieved using get_emails_from_folder().\n",
    "\n",
    "        Returns\n",
    "        -------\n",
    "            (Dict) \n",
    "            \n",
    "            {\n",
    "                YEAR: {\n",
    "                    MONTH: {\n",
    "                        1: {\n",
    "                            \"subject\": \"<SUBJECT>\",\n",
    "                            \"text\": \"<TEXT>\",\n",
    "                            \"sender\": \"<SENDER>\"\n",
    "                        }\n",
    "                        ...\n",
    "                        \"counter\": <INT>\n",
    "                    }\n",
    "                    ...\n",
    "                    \"counter\": <INT>\n",
    "                }\n",
    "                \"counter\": <INT>\n",
    "            }\n",
    "    '''\n",
    "    emails = dict()\n",
    "    counter = 0\n",
    "    for year in email_dict:\n",
    "        counter_year = 0\n",
    "        emails[year] = dict()\n",
    "        for month in email_dict[year]:\n",
    "            counter_month = 0\n",
    "            emails[year][month] = dict()\n",
    "            for idx, mail in email_dict[year][month].items():\n",
    "                text = parse_mime_tree(mail)\n",
    "                sender = parse_mime_sender(mail)\n",
    "                subject = parse_mime_subject(mail)\n",
    "                emails[year][month][idx] = {\n",
    "                    \"text\": text,\n",
    "                    \"subject\": subject,\n",
    "                    \"sender\": sender\n",
    "                }\n",
    "                # incrementing counters\n",
    "                counter += 1\n",
    "                counter_year += 1\n",
    "                counter_month += 1\n",
    "            emails[year][month][\"counter\"] = counter_month\n",
    "        emails[year][\"counter\"] = counter_year\n",
    "    emails[\"counter\"] = counter\n",
    "    return emails"
   ]
  },
  {
   "cell_type": "code",
   "execution_count": 70,
   "id": "a8590990",
   "metadata": {},
   "outputs": [
    {
     "name": "stderr",
     "output_type": "stream",
     "text": [
      "/mnt/c/Users/pyris/OneDrive/Dokumente/Projekte/Artikel/2024_Yggdrasil_Artikel/src/parser/MailTextParser.py:42: MarkupResemblesLocatorWarning: The input looks more like a URL than markup. You may want to use an HTTP client like requests to get the document behind the URL, and feed that document to Beautiful Soup.\n",
      "  return BeautifulSoup(content, \"html.parser\").get_text() # removing html tags and noise\n"
     ]
    }
   ],
   "source": [
    "content = get_content_from_emails(emails)"
   ]
  },
  {
   "cell_type": "code",
   "execution_count": 71,
   "id": "26e63bc4",
   "metadata": {},
   "outputs": [
    {
     "data": {
      "text/plain": [
       "127"
      ]
     },
     "execution_count": 71,
     "metadata": {},
     "output_type": "execute_result"
    }
   ],
   "source": [
    "content[1999][\"counter\"]"
   ]
  },
  {
   "cell_type": "code",
   "execution_count": 72,
   "id": "320e13c0",
   "metadata": {},
   "outputs": [],
   "source": [
    "# sanity check\n",
    "sum_ = 0\n",
    "for y in content:\n",
    "    if type(y) == int:\n",
    "        for m in content[y]:\n",
    "            if m != \"counter\":\n",
    "                sum_ += content[y][m][\"counter\"]\n",
    "\n",
    "assert sum_ == content[\"counter\"]"
   ]
  },
  {
   "cell_type": "markdown",
   "id": "518a4ec5-4e94-4282-8e33-9ddae5b5798c",
   "metadata": {},
   "source": [
    "## Testing"
   ]
  },
  {
   "cell_type": "markdown",
   "id": "21a7155e-4cef-49ba-b9b6-d0946c510707",
   "metadata": {},
   "source": [
    "### Cleaning \"subject\" field"
   ]
  },
  {
   "cell_type": "code",
   "execution_count": 73,
   "id": "3e1653b4-9045-48a0-b8e1-df7cd0f5f2a8",
   "metadata": {},
   "outputs": [],
   "source": [
    "clean_subject = re.compile(r\"^re:\\s+\\[ygg\\]|^fwd:\\s+\\[ygg\\]|^aw:\\s+\\[ygg\\]|^re:\\s+fwd:\\s+\\[ygg\\]|^\\[ygg\\]|\\baw:|\\bfwd:|\\bfw:|\\bre:\", re.IGNORECASE)"
   ]
  },
  {
   "cell_type": "code",
   "execution_count": 76,
   "id": "428dcb06",
   "metadata": {},
   "outputs": [
    {
     "name": "stdout",
     "output_type": "stream",
     "text": [
      "=====================================\n",
      "anfrage\n",
      "=====================================\n",
      "hagiographie\n",
      "=====================================\n",
      "(weitergel.) tagung ueber neue relgionen\n",
      "=====================================\n",
      "endangered religions and new species\n"
     ]
    }
   ],
   "source": [
    "for idx,mail in content[1997][\"12\"].items():\n",
    "    if type(idx) != str:\n",
    "        print(\"=====================================\")\n",
    "        if mail[\"subject\"] == None:\n",
    "            print(mail)\n",
    "        else:\n",
    "            subject = re.sub(clean_subject, \"\", mail[\"subject\"])\n",
    "            subject = subject.strip().lower()\n",
    "            print(subject)\n",
    "        "
   ]
  },
  {
   "cell_type": "code",
   "execution_count": 97,
   "id": "2487073a-0549-4e01-97f8-a95188c0c76f",
   "metadata": {},
   "outputs": [],
   "source": [
    "def clean_subject(subject: str) -> str:\n",
    "    '''Function to clean an email-subject using RE.\n",
    "    '''\n",
    "    CLEANING_PATTERN = re.compile(r\"^re:\\s+\\[ygg\\]|^fwd:\\s+\\[ygg\\]|^aw:\\s+\\[ygg\\]|^re:\\s+fwd:\\s+\\[ygg\\]|^\\[ygg\\]|\\baw:|\\bfwd:|\\bfw:|\\bre:\", re.IGNORECASE)\n",
    "    subject = re.sub(CLEANING_PATTERN, \" \", subject)\n",
    "    subject = re.sub(r\"\\s{2,}\", \" \", subject)\n",
    "    subject = subject.strip().lower()\n",
    "    return subject"
   ]
  },
  {
   "cell_type": "code",
   "execution_count": 111,
   "id": "07ecb6b2",
   "metadata": {},
   "outputs": [],
   "source": [
    "## get titles related to conferences and cfps\n",
    "\n",
    "def get_specific_subjects(emails_in, pattern) -> Dict[int, Dict[str,Union[List,int]]]:\n",
    "    '''Function to count and collect all subjects matching a RE pattern.\n",
    "\n",
    "        Parameters\n",
    "        ----------\n",
    "            emails_in: Dict[]\n",
    "                The nested content dict from get_content_from_emails().\n",
    "            pattern: re\n",
    "                The RE to match.\n",
    "\n",
    "        Returns\n",
    "        -------\n",
    "            Dictionary:\n",
    "            {\n",
    "                <YEAR>: {\n",
    "                    \"titles\": List[str],\n",
    "                    \"counter\": int\n",
    "                }\n",
    "            }\n",
    "    '''\n",
    "    cfp_dict = dict()\n",
    "    for year,months in emails_in.items():\n",
    "        if type(year) == int:\n",
    "            cfp_dict[year] = {\n",
    "                \"titles\": list(),\n",
    "                \"counter\": 0\n",
    "            }\n",
    "            for month,messages in months.items():\n",
    "                if month != \"counter\":\n",
    "                    for _,msg in messages.items():\n",
    "                        if _ != \"counter\":\n",
    "                            cln_subject = clean_subject(msg[\"subject\"]) if msg[\"subject\"] else \"\"\n",
    "                            if re.match(pattern, cln_subject):\n",
    "                                cfp_dict[year][\"titles\"].append(msg[\"subject\"])\n",
    "                                cfp_dict[year][\"counter\"] += 1\n",
    "    return cfp_dict\n",
    "                    \n",
    "                "
   ]
  },
  {
   "cell_type": "code",
   "execution_count": 112,
   "id": "12fbcdb9",
   "metadata": {},
   "outputs": [
    {
     "data": {
      "text/plain": [
       "{1997: {'titles': [], 'counter': 0},\n",
       " 1998: {'titles': ['Conference at Greifswald University August 31 - September 4, 1998'],\n",
       "  'counter': 1},\n",
       " 1999: {'titles': [], 'counter': 0}}"
      ]
     },
     "execution_count": 112,
     "metadata": {},
     "output_type": "execute_result"
    }
   ],
   "source": [
    "CFP_RE_PATTERN = re.compile(r\"cfa|cfp|konferenz|conference|call for paper(s)?\")\n",
    "\n",
    "get_specific_subjects(content, CFP_RE_PATTERN)"
   ]
  },
  {
   "cell_type": "code",
   "execution_count": null,
   "id": "6bc0afdb-d368-4b01-ba86-2d7cd4ae0c34",
   "metadata": {},
   "outputs": [],
   "source": []
  }
 ],
 "metadata": {
  "kernelspec": {
   "display_name": "Python 3 (ipykernel)",
   "language": "python",
   "name": "python3"
  },
  "language_info": {
   "codemirror_mode": {
    "name": "ipython",
    "version": 3
   },
   "file_extension": ".py",
   "mimetype": "text/x-python",
   "name": "python",
   "nbconvert_exporter": "python",
   "pygments_lexer": "ipython3",
   "version": "3.12.0"
  }
 },
 "nbformat": 4,
 "nbformat_minor": 5
}
