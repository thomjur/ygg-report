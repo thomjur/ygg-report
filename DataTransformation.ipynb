{
 "cells": [
  {
   "cell_type": "code",
   "execution_count": 3,
   "id": "5ffb7ac5",
   "metadata": {},
   "outputs": [],
   "source": [
    "import glob\n",
    "import pandas as pd\n",
    "import email\n",
    "from email import policy\n",
    "from src.parser.MailTextParser import parse_mime_tree\n",
    "from src.parser.MailSubjectParser import parse_mime_subject\n",
    "from src.parser.MailSenderParser import parse_mime_sender\n",
    "from typing import Dict, List, Optional, Tuple, Union\n",
    "from collections import Counter\n",
    "import re"
   ]
  },
  {
   "cell_type": "markdown",
   "id": "0d691d97-e72c-4148-bd2b-2a6dda2145ab",
   "metadata": {},
   "source": [
    "## TODO\n",
    "\n",
    "4. TEXT ANALYSIS (cleaning first)"
   ]
  },
  {
   "cell_type": "markdown",
   "id": "2d391718-b77c-47b6-927e-033f92c97785",
   "metadata": {},
   "source": [
    "## Helper stuff\n"
   ]
  },
  {
   "cell_type": "code",
   "execution_count": 5,
   "id": "ba0e3dd7-7411-4f11-9236-7cbc4e7f74a0",
   "metadata": {},
   "outputs": [],
   "source": [
    "MONTH_MAPPING = {\n",
    "    \"01\": \"JAN\",\n",
    "    \"02\": \"FEB\",\n",
    "    \"03\": \"MAR\",\n",
    "    \"04\": \"APR\",\n",
    "    \"05\": \"MAI\",\n",
    "    \"06\": \"JUN\",\n",
    "    \"07\": \"JUL\",\n",
    "    \"08\": \"AUG\",\n",
    "    \"09\": \"SEP\",\n",
    "    \"10\": \"OCT\",\n",
    "    \"11\": \"NOV\",\n",
    "    \"12\": \"DEC\"\n",
    "}"
   ]
  },
  {
   "cell_type": "code",
   "execution_count": 6,
   "id": "8972551a-da0b-4030-a6fd-df9fc774c28b",
   "metadata": {},
   "outputs": [],
   "source": [
    "def guess_encoding(file_path):\n",
    "    encodings = ['utf-8', 'iso-8859-1', 'windows-1252']  # Add more as needed\n",
    "    for enc in encodings:\n",
    "        try:\n",
    "            with open(file_path, encoding=enc) as file:\n",
    "                content = file.read()\n",
    "                if content == None:\n",
    "                    print(\"NONE\")\n",
    "                return enc\n",
    "        except UnicodeDecodeError:\n",
    "            continue\n",
    "    print(f\"Could not open {file_path}. Maybe wrong encoding?\")\n",
    "    return None"
   ]
  },
  {
   "cell_type": "markdown",
   "id": "dd77a87d-36a7-484b-9909-e5d6ec933330",
   "metadata": {},
   "source": [
    "## MAIN FUNCTIONS"
   ]
  },
  {
   "cell_type": "code",
   "execution_count": 7,
   "id": "a3d72e7b",
   "metadata": {},
   "outputs": [],
   "source": [
    "def get_emails_from_folder(year_range: Tuple[int,int]) -> Dict[int, Dict[str, Dict[int, email.message.Message]]]:\n",
    "    '''Get all emails from email folders stored under data/.\n",
    "\n",
    "        Parameters\n",
    "        ----------\n",
    "            year_range: Tuple(int,int)\n",
    "                The year range, where starting year is _inclusive_ and end year is _exclusive_.\n",
    "\n",
    "        Returns\n",
    "        -------\n",
    "            (Dict) \n",
    "            \n",
    "            {\n",
    "                YEAR: {\n",
    "                    MONTH: {\n",
    "                        1: <email.message.Message>\n",
    "                    }\n",
    "                    ...\n",
    "                }\n",
    "            }\n",
    "    '''\n",
    "    emails = dict()\n",
    "    counter = 0\n",
    "    for year in range(year_range[0],year_range[1]):\n",
    "        emails[year] = dict()\n",
    "        for month in MONTH_MAPPING:\n",
    "            emails[year][month] = dict()\n",
    "            for idx, file in enumerate(glob.glob(f\"data/{year}/yggdrasill_{year}-{month}/*\")):\n",
    "                # guess encoding first, since there are quite a few non-UTF-8 mails\n",
    "                enc = guess_encoding(file)\n",
    "                with open(file, \"r\", encoding=enc) as f:\n",
    "                    emails[year][month][idx] = email.message_from_file(f, policy=policy.default) # the policy-default is very important for subject titles\n",
    "                    # check if message has been parsed correctly\n",
    "                    if emails[year][month][idx].keys() == []:\n",
    "                        print(f\"Issue with mail!\")\n",
    "                        print(file)                            \n",
    "                counter += 1\n",
    "    print(f\"Received {counter} emails from {year_range[0]} to {year_range[1]-1}.\") \n",
    "    return emails"
   ]
  },
  {
   "cell_type": "code",
   "execution_count": 5,
   "id": "d3962d0e",
   "metadata": {},
   "outputs": [],
   "source": [
    "#emails = get_emails_from_folder((1997,2024))"
   ]
  },
  {
   "cell_type": "markdown",
   "id": "06334c78-5522-4872-84c2-7e7c81b5e1eb",
   "metadata": {},
   "source": [
    "## save emails\n",
    "import pickle\n",
    "\n",
    "with open(\"storage.pkl\", \"wb\") as f:\n",
    "    pickle.dump(emails, f)"
   ]
  },
  {
   "cell_type": "code",
   "execution_count": 8,
   "id": "efb8b627-e910-4062-9d67-211e3358d8cb",
   "metadata": {},
   "outputs": [],
   "source": [
    "import pickle\n",
    "\n",
    "with open(\"storage.pkl\", \"rb\") as f:\n",
    "    emails = pickle.load(f)"
   ]
  },
  {
   "cell_type": "code",
   "execution_count": 7,
   "id": "bba5bc1c",
   "metadata": {},
   "outputs": [],
   "source": [
    "#emails"
   ]
  },
  {
   "cell_type": "code",
   "execution_count": 12,
   "id": "e2b17094",
   "metadata": {},
   "outputs": [],
   "source": [
    "def get_content_from_emails(email_dict: Dict[int, Dict[str, Dict[int, email.message.Message]]]) -> Dict:\n",
    "    '''Extract CONTENT, SUBJECT, SENDER from emails retrieved via get_emails_from_folder().\n",
    "\n",
    "        Parameters\n",
    "        ----------\n",
    "            email_dict: Dict[str, Dict[str, Dict[int, email.message.Message]]\n",
    "                The dictionary with emails, retrieved using get_emails_from_folder().\n",
    "\n",
    "        Returns\n",
    "        -------\n",
    "            (Dict) \n",
    "            \n",
    "            {\n",
    "                YEAR: {\n",
    "                    MONTH: {\n",
    "                        1: {\n",
    "                            \"subject\": \"<SUBJECT>\",\n",
    "                            \"text\": \"<TEXT>\",\n",
    "                            \"sender\": \"<SENDER>\"\n",
    "                        }\n",
    "                        ...\n",
    "                        \"counter\": <INT>\n",
    "                    }\n",
    "                    ...\n",
    "                    \"counter\": <INT>\n",
    "                }\n",
    "                \"counter\": <INT>\n",
    "            }\n",
    "    '''\n",
    "    emails = dict()\n",
    "    counter = 0\n",
    "    for year in email_dict:\n",
    "        counter_year = 0\n",
    "        emails[year] = dict()\n",
    "        for month in email_dict[year]:\n",
    "            counter_month = 0\n",
    "            emails[year][month] = dict()\n",
    "            for idx, mail in email_dict[year][month].items():\n",
    "                text = parse_mime_tree(mail)\n",
    "                sender = parse_mime_sender(mail)\n",
    "                subject = parse_mime_subject(mail)\n",
    "                emails[year][month][idx] = {\n",
    "                    \"text\": text,\n",
    "                    \"subject\": subject,\n",
    "                    \"sender\": sender\n",
    "                }\n",
    "                # incrementing counters\n",
    "                counter += 1\n",
    "                counter_year += 1\n",
    "                counter_month += 1\n",
    "            emails[year][month][\"counter\"] = counter_month\n",
    "        emails[year][\"counter\"] = counter_year\n",
    "    emails[\"counter\"] = counter\n",
    "    return emails"
   ]
  },
  {
   "cell_type": "code",
   "execution_count": 13,
   "id": "a8590990",
   "metadata": {},
   "outputs": [
    {
     "name": "stderr",
     "output_type": "stream",
     "text": [
      "/mnt/c/Users/pyris/OneDrive/Dokumente/Projekte/Artikel/2024_Yggdrasil_Artikel/src/parser/MailTextParser.py:42: MarkupResemblesLocatorWarning: The input looks more like a filename than markup. You may want to open this file and pass the filehandle into Beautiful Soup.\n",
      "  return BeautifulSoup(content, \"html.parser\").get_text() # removing html tags and noise\n",
      "/mnt/c/Users/pyris/OneDrive/Dokumente/Projekte/Artikel/2024_Yggdrasil_Artikel/src/parser/MailTextParser.py:42: MarkupResemblesLocatorWarning: The input looks more like a URL than markup. You may want to use an HTTP client like requests to get the document behind the URL, and feed that document to Beautiful Soup.\n",
      "  return BeautifulSoup(content, \"html.parser\").get_text() # removing html tags and noise\n"
     ]
    }
   ],
   "source": [
    "content = get_content_from_emails(emails)"
   ]
  },
  {
   "cell_type": "markdown",
   "id": "518a4ec5-4e94-4282-8e33-9ddae5b5798c",
   "metadata": {},
   "source": [
    "## Testing"
   ]
  },
  {
   "cell_type": "markdown",
   "id": "21a7155e-4cef-49ba-b9b6-d0946c510707",
   "metadata": {},
   "source": [
    "### Analysis \"subject\" field"
   ]
  },
  {
   "cell_type": "code",
   "execution_count": 14,
   "id": "2487073a-0549-4e01-97f8-a95188c0c76f",
   "metadata": {},
   "outputs": [],
   "source": [
    "def clean_subject(subject: str) -> str:\n",
    "    '''Function to clean an email-subject using RE.\n",
    "    '''\n",
    "    CLEANING_PATTERN = re.compile(r\"^re:\\s+\\[ygg\\]|^fwd:\\s+\\[ygg\\]|^aw:\\s+\\[ygg\\]|^re:\\s+fwd:\\s+\\[ygg\\]|^\\[ygg\\]|\\baw:|\\bfwd:|\\bfw:|\\bre:\", re.IGNORECASE)\n",
    "    subject = re.sub(CLEANING_PATTERN, \" \", subject)\n",
    "    subject = re.sub(r\"\\s{2,}\", \" \", subject)\n",
    "    subject = subject.strip().lower()\n",
    "    return subject"
   ]
  },
  {
   "cell_type": "code",
   "execution_count": 15,
   "id": "07ecb6b2",
   "metadata": {},
   "outputs": [],
   "source": [
    "## get titles related to conferences and cfps\n",
    "\n",
    "def get_specific_subjects(emails_in, pattern) -> Dict[int, Dict[str,Union[List,int]]]:\n",
    "    '''Function to count and collect all subjects matching a RE pattern.\n",
    "\n",
    "        Parameters\n",
    "        ----------\n",
    "            emails_in: Dict[]\n",
    "                The nested content dict from get_content_from_emails().\n",
    "            pattern: re\n",
    "                The RE to match.\n",
    "\n",
    "        Returns\n",
    "        -------\n",
    "            Dictionary:\n",
    "            {\n",
    "                <YEAR>: {\n",
    "                    \"titles\": List[str],\n",
    "                    \"counter\": int\n",
    "                }\n",
    "            }\n",
    "    '''\n",
    "    cfp_dict = dict()\n",
    "    for year,months in emails_in.items():\n",
    "        if type(year) == int:\n",
    "            cfp_dict[year] = {\n",
    "                \"titles\": list(),\n",
    "                \"counter\": 0\n",
    "            }\n",
    "            for month,messages in months.items():\n",
    "                if month != \"counter\":\n",
    "                    for _,msg in messages.items():\n",
    "                        if _ != \"counter\":\n",
    "                            cln_subject = clean_subject(msg[\"subject\"]) if msg[\"subject\"] else \"\"\n",
    "                            if re.match(pattern, cln_subject):\n",
    "                                cfp_dict[year][\"titles\"].append(msg[\"subject\"])\n",
    "                                cfp_dict[year][\"counter\"] += 1\n",
    "    return cfp_dict\n",
    "                    \n",
    "                "
   ]
  },
  {
   "cell_type": "code",
   "execution_count": 16,
   "id": "5a5c5ba3-c92a-4794-9e94-0f4758d251b4",
   "metadata": {},
   "outputs": [],
   "source": [
    "## get titles related to conferences and cfps\n",
    "\n",
    "def get_top_subjects(emails_in) -> Counter:\n",
    "    '''Function to count and collect all subjects.\n",
    "\n",
    "        Parameters\n",
    "        ----------\n",
    "            emails_in: Dict[]\n",
    "                The nested content dict from get_content_from_emails().\n",
    "\n",
    "        Returns\n",
    "        -------\n",
    "            Counter: Counter() object with frequency of cleaned subjects.\n",
    "    '''\n",
    "    counter = Counter()\n",
    "    for year,months in emails_in.items():\n",
    "        if type(year) == int:\n",
    "            for month,messages in months.items():\n",
    "                if month != \"counter\":\n",
    "                    for _,msg in messages.items():\n",
    "                        if _ != \"counter\":\n",
    "                            cln_subject = clean_subject(msg[\"subject\"]) if msg[\"subject\"] else \"\"\n",
    "                            counter[cln_subject] += 1\n",
    "\n",
    "    # remove empty subject lines\n",
    "    if \"\" in counter:\n",
    "        del counter[\"\"]\n",
    "    return counter\n",
    "                    \n",
    "                "
   ]
  },
  {
   "cell_type": "code",
   "execution_count": 17,
   "id": "12fbcdb9",
   "metadata": {},
   "outputs": [],
   "source": [
    "CFP_RE_PATTERN = re.compile(r\"cfa|cfp|konferenz|conference|call for paper(s)?|tagung\")\n",
    "ANNOUNCEMENTS_RE_PATTERN = re.compile(r\"ankündigung|publikation|bekanntmachung\")\n",
    "\n",
    "spec_subjects_dict = get_specific_subjects(content, CFP_RE_PATTERN)"
   ]
  },
  {
   "cell_type": "code",
   "execution_count": 18,
   "id": "6bc0afdb-d368-4b01-ba86-2d7cd4ae0c34",
   "metadata": {},
   "outputs": [],
   "source": [
    "top_subjects = get_top_subjects(content)"
   ]
  },
  {
   "cell_type": "code",
   "execution_count": 19,
   "id": "08ac84d1-0b34-43ab-8b09-ea5c96a52300",
   "metadata": {},
   "outputs": [
    {
     "data": {
      "text/plain": [
       "[('geschichte der religionswissenschaft', 83),\n",
       " ('heute vor 120 jahren ...', 74),\n",
       " ('diskriminierung von religionswissenschaftlerinnen? - vorschlag', 70),\n",
       " ('easr code of conduct', 70),\n",
       " ('religionswissenschaft', 68)]"
      ]
     },
     "execution_count": 19,
     "metadata": {},
     "output_type": "execute_result"
    }
   ],
   "source": [
    "top_subjects.most_common(5)"
   ]
  },
  {
   "cell_type": "markdown",
   "id": "c60677d8-202c-4cc9-a184-f37feaf78aef",
   "metadata": {},
   "source": [
    "### Analysis \"author\" field"
   ]
  },
  {
   "cell_type": "code",
   "execution_count": 20,
   "id": "d2d0cdf9-1e31-4cf0-9e97-a857d967d641",
   "metadata": {},
   "outputs": [],
   "source": [
    "def clean_sender(sender: str) -> str:\n",
    "    '''Function to clean an email-from field using RE.\n",
    "    '''\n",
    "    SEARCH_PATTERN = re.compile(r\"\\b[A-Za-z0-9._%+-]+@[A-Za-z0-9.-]+\\.[A-Z|a-z]{2,}\\b\", re.IGNORECASE)\n",
    "    sender_clean = re.findall(SEARCH_PATTERN, sender)\n",
    "    sender_clean = sender_clean[0].strip().lower() if len(sender_clean) > 0 else \"\"\n",
    "    if sender_clean == \"yggdrasill@lists.uni-marburg.de\":\n",
    "        # if the sender was the mailing list, try and find the name of the sender instead of email\n",
    "        sender_clean = re.findall(r'^.*?[(<]', sender)\n",
    "        sender_clean = sender_clean[0].strip().lower() if len(sender_clean) > 0 else \"\"\n",
    "        sender_clean = re.sub(r\"\\W+\", \" \", sender_clean)\n",
    "        sender_clean = re.sub(r\"\\s{2,}\", \" \", sender_clean)\n",
    "    return sender_clean.strip()"
   ]
  },
  {
   "cell_type": "code",
   "execution_count": 21,
   "id": "8bbcad4b-438f-4f51-940c-47f5b70a87b2",
   "metadata": {},
   "outputs": [],
   "source": [
    "def get_top_sender(emails_in) -> Counter:\n",
    "    '''Function to count and collect sender.\n",
    "\n",
    "        Parameters\n",
    "        ----------\n",
    "            emails_in: Dict[]\n",
    "                The nested content dict from get_content_from_emails().\n",
    "\n",
    "        Returns\n",
    "        -------\n",
    "            Counter: Counter() object with frequency of cleaned sender data.\n",
    "    '''\n",
    "    counter = Counter()\n",
    "    for year,months in emails_in.items():\n",
    "        if type(year) == int:\n",
    "            for month,messages in months.items():\n",
    "                if month != \"counter\":\n",
    "                    for _,msg in messages.items():\n",
    "                        if _ != \"counter\":\n",
    "                            cln_sender = clean_sender(msg[\"sender\"]) if msg[\"sender\"] else \"\"\n",
    "                            counter[cln_sender] += 1\n",
    "    return counter\n",
    "                    \n",
    "                "
   ]
  },
  {
   "cell_type": "code",
   "execution_count": 22,
   "id": "95b603e8-d20a-4228-8f8f-c819b911e00d",
   "metadata": {},
   "outputs": [],
   "source": [
    "sender_counter = get_top_sender(content)"
   ]
  },
  {
   "cell_type": "code",
   "execution_count": 23,
   "id": "2d81fc70-deb3-4799-8321-0254c6350d27",
   "metadata": {},
   "outputs": [
    {
     "data": {
      "text/plain": [
       "[('michael.a.schmiedel@gmx.de', 750),\n",
       " ('pye@staff.uni-marburg.de', 615),\n",
       " ('arabella.unger@vodafone.de', 538),\n",
       " ('giovannicasadio@libero.it', 387),\n",
       " ('perry.sl@btinternet.com', 352),\n",
       " ('christoph.bochinger@uni-bayreuth.de', 298),\n",
       " ('pye@mailer.uni-marburg.de', 246),\n",
       " ('mhutter@uni-bonn.de', 242),\n",
       " ('c.kleine@uni-leipzig.de', 206),\n",
       " ('carrope@gmx.de', 188)]"
      ]
     },
     "execution_count": 23,
     "metadata": {},
     "output_type": "execute_result"
    }
   ],
   "source": [
    "sender_counter.most_common(10)"
   ]
  },
  {
   "cell_type": "markdown",
   "id": "6cd09abe-1d86-4512-ad5a-0e9e907ea7bd",
   "metadata": {},
   "source": [
    "### Visualization"
   ]
  },
  {
   "cell_type": "code",
   "execution_count": 42,
   "id": "5e4d3a4d-858b-4a1b-bc62-da2b1410ba4c",
   "metadata": {},
   "outputs": [],
   "source": [
    "import matplotlib.pyplot as plt\n",
    "import pandas as pd\n",
    "import seaborn as sns\n",
    "\n",
    "# Create a line plot with enhanced styling\n",
    "sns.set_style(\"whitegrid\")  # Set the background style\n",
    "sns.set_palette(\"viridis\")  # Set the color palette\n",
    "\n",
    "def plot_posts_per_year(emails):\n",
    "    '''Function to plot the number of posts per year.\n",
    "    \n",
    "    '''\n",
    "    dict_ = dict()\n",
    "    for year,data in emails.items():\n",
    "        if type(year) == int:\n",
    "            dict_[str(year)] = data[\"counter\"]\n",
    "    df = pd.DataFrame(dict_.items(), columns=[\"Year\", \"Posts\"])\n",
    "    sns.lineplot(x=df[\"Year\"], y=df[\"Posts\"], marker='o', markersize=8, linestyle='-', linewidth=2)\n",
    "    plt.title(f\"Posts per Year\", fontsize=16)\n",
    "    plt.xlabel(\"Year\", fontsize=13)\n",
    "    plt.xticks(rotation=45)\n",
    "    plt.ylabel(\"Posts\", fontsize=13)\n",
    "    plt.tight_layout()\n",
    "    plt.savefig(f\"yearly_stats.png\")\n",
    "    "
   ]
  },
  {
   "cell_type": "code",
   "execution_count": 43,
   "id": "6309a08e-502b-4849-8070-c92efb393750",
   "metadata": {},
   "outputs": [
    {
     "data": {
      "image/png": "[encoded data removed]",
      "text/plain": [
       "<Figure size 640x480 with 1 Axes>"
      ]
     },
     "metadata": {},
     "output_type": "display_data"
    }
   ],
   "source": [
    "plot_posts_per_year(content)"
   ]
  },
  {
   "cell_type": "code",
   "execution_count": 40,
   "id": "39262418-7b20-44a0-a778-55880b2b4842",
   "metadata": {},
   "outputs": [],
   "source": [
    "def plot_posts_in_year(emails, year: int):\n",
    "    '''Function to plot the number of posts/month of a particular year.\n",
    "    \n",
    "    '''\n",
    "    dict_ = dict()\n",
    "    for month,data in emails[year].items():\n",
    "        if month != \"counter\":\n",
    "            dict_[MONTH_MAPPING[month]] = data[\"counter\"]\n",
    "    df = pd.DataFrame(dict_.items(), columns=[\"Month\", \"Posts\"])\n",
    "    sns.lineplot(x=df[\"Month\"], y=df[\"Posts\"], marker='o', markersize=8, linestyle='-', linewidth=2)\n",
    "    plt.title(f\"Posts in {year}\", fontsize=16)\n",
    "    plt.xlabel(\"Month\", fontsize=13)\n",
    "    plt.xticks(rotation=45)\n",
    "    plt.ylabel(\"Posts\", fontsize=13)\n",
    "    plt.tight_layout()\n",
    "    plt.savefig(f\"posts_in_{year}.png\")\n",
    "    "
   ]
  },
  {
   "cell_type": "code",
   "execution_count": 41,
   "id": "739691b4-e845-42d5-ab07-db854ea8ca47",
   "metadata": {},
   "outputs": [
    {
     "data": {
      "image/png": "[encoded data removed]",
      "text/plain": [
       "<Figure size 640x480 with 1 Axes>"
      ]
     },
     "metadata": {},
     "output_type": "display_data"
    }
   ],
   "source": [
    "plot_posts_in_year(content,2023)"
   ]
  },
  {
   "cell_type": "code",
   "execution_count": null,
   "id": "ecdf354b-b6a2-479c-bca5-112aaa77a11a",
   "metadata": {},
   "outputs": [],
   "source": []
  }
 ],
 "metadata": {
  "kernelspec": {
   "display_name": "Python 3 (ipykernel)",
   "language": "python",
   "name": "python3"
  },
  "language_info": {
   "codemirror_mode": {
    "name": "ipython",
    "version": 3
   },
   "file_extension": ".py",
   "mimetype": "text/x-python",
   "name": "python",
   "nbconvert_exporter": "python",
   "pygments_lexer": "ipython3",
   "version": "3.12.0"
  }
 },
 "nbformat": 4,
 "nbformat_minor": 5
}
