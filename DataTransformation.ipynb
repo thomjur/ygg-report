{
 "cells": [
  {
   "cell_type": "code",
   "execution_count": 1,
   "id": "5ffb7ac5",
   "metadata": {},
   "outputs": [],
   "source": [
    "import glob\n",
    "import pandas as pd\n",
    "import email\n",
    "import numpy as np\n",
    "import matplotlib.pyplot as plt\n",
    "from email import policy\n",
    "from src.parser.MailTextParser import parse_mime_tree\n",
    "from src.parser.MailSubjectParser import parse_mime_subject\n",
    "from src.parser.MailSenderParser import parse_mime_sender\n",
    "from typing import Dict, List, Optional, Tuple, Union, Literal\n",
    "from collections import Counter\n",
    "import re\n",
    "import spacy\n",
    "from typing import Optional, List, Dict, Union, Literal"
   ]
  },
  {
   "cell_type": "markdown",
   "id": "0d691d97-e72c-4148-bd2b-2a6dda2145ab",
   "metadata": {},
   "source": [
    "# Übersicht\n",
    "<small>Version: 1.0.0 (28.12.2024)</small>\n",
    "\n",
    "Dieses Jupyter Notebook enthält den Code für die Analyse der Beiträge auf der Yggdrasill Mailing-Liste.\n",
    "\n",
    "Folgende Schritte wurden bisher umgesetzt:\n",
    "\n",
    "1. Laden der E-Mail-Daten (eml Format) aus Thunderbird und Transformation plus Cleaning.\n",
    "2. Datenanalyse\n",
    "   1. Betreffszeilen-Analyse\n",
    "   2. Autoren-Analyse\n",
    "   3. Text-Analyse\n",
    "   4. Beitragshäufigkeiten-Analyse\n",
    "3. Visualisierungen\n",
    "    1. Beiträge/Jahr\n",
    "    2. Beiträge/Monat (in einem bestimmten Jahr)"
   ]
  },
  {
   "cell_type": "markdown",
   "id": "2d391718-b77c-47b6-927e-033f92c97785",
   "metadata": {
    "jp-MarkdownHeadingCollapsed": true
   },
   "source": [
    "## Hilfsfunktionen\n"
   ]
  },
  {
   "cell_type": "code",
   "execution_count": null,
   "id": "ba0e3dd7-7411-4f11-9236-7cbc4e7f74a0",
   "metadata": {},
   "outputs": [],
   "source": [
    "MONTH_MAPPING = {\n",
    "    \"01\": \"JAN\",\n",
    "    \"02\": \"FEB\",\n",
    "    \"03\": \"MAR\",\n",
    "    \"04\": \"APR\",\n",
    "    \"05\": \"MAI\",\n",
    "    \"06\": \"JUN\",\n",
    "    \"07\": \"JUL\",\n",
    "    \"08\": \"AUG\",\n",
    "    \"09\": \"SEP\",\n",
    "    \"10\": \"OCT\",\n",
    "    \"11\": \"NOV\",\n",
    "    \"12\": \"DEC\"\n",
    "}"
   ]
  },
  {
   "cell_type": "code",
   "execution_count": null,
   "id": "8972551a-da0b-4030-a6fd-df9fc774c28b",
   "metadata": {},
   "outputs": [],
   "source": [
    "def guess_encoding(file_path: str) -> Optional[Literal['utf-8', 'iso-8859-1', 'windows-1252']]:\n",
    "    '''\n",
    "    Guess the encoding of a file.\n",
    "\n",
    "    Parameters\n",
    "    ----------\n",
    "        file_path: str\n",
    "            Path to the file.\n",
    "\n",
    "    Returns\n",
    "    -------\n",
    "        Optional[Literal['utf-8', 'iso-8859-1', 'windows-1252']]\n",
    "            Returns either the encoding or None if no encoding matches the file format.\n",
    "    '''\n",
    "    encodings = ['utf-8', 'iso-8859-1', 'windows-1252']  # Add more as needed\n",
    "    for enc in encodings:\n",
    "        try:\n",
    "            with open(file_path, encoding=enc) as file:\n",
    "                content = file.read()\n",
    "                if content == None:\n",
    "                    print(\"NONE\")\n",
    "                return enc\n",
    "        except UnicodeDecodeError:\n",
    "            continue\n",
    "    print(f\"Could not open {file_path}. Maybe wrong encoding?\")\n",
    "    return None"
   ]
  },
  {
   "cell_type": "markdown",
   "id": "dd77a87d-36a7-484b-9909-e5d6ec933330",
   "metadata": {
    "jp-MarkdownHeadingCollapsed": true
   },
   "source": [
    "## Hauptfunktionen\n",
    "Wir erstellen ein Dictionary mit allen Informationen der E-Mails aus einer gewählten Jahres-Range."
   ]
  },
  {
   "cell_type": "code",
   "execution_count": null,
   "id": "a3d72e7b",
   "metadata": {},
   "outputs": [],
   "source": [
    "def get_emails_from_folder(year_range: Tuple[int,int]) -> Dict[int, Dict[str, Dict[int, email.message.Message]]]:\n",
    "    '''\n",
    "    Get all emails from email folders stored under data/.\n",
    "\n",
    "    Parameters\n",
    "    ----------\n",
    "        year_range: Tuple(int,int)\n",
    "            The year range, where starting year is _inclusive_ and end year is _exclusive_.\n",
    "\n",
    "    Returns\n",
    "    -------\n",
    "        (Dict) \n",
    "        \n",
    "        {\n",
    "            YEAR: {\n",
    "                MONTH: {\n",
    "                    1: <email.message.Message>\n",
    "                }\n",
    "                ...\n",
    "            }\n",
    "        }\n",
    "    '''\n",
    "    emails = dict()\n",
    "    counter = 0\n",
    "    for year in range(year_range[0],year_range[1]):\n",
    "        emails[year] = dict()\n",
    "        for month in MONTH_MAPPING:\n",
    "            emails[year][month] = dict()\n",
    "            for idx, file in enumerate(glob.glob(f\"data/{year}/yggdrasill_{year}-{month}/*\")):\n",
    "                # Guess encoding first, since there are quite a few non-UTF-8 mails\n",
    "                enc = guess_encoding(file)\n",
    "                with open(file, \"r\", encoding=enc) as f:\n",
    "                    emails[year][month][idx] = email.message_from_file(f, policy=policy.default) # The policy-default is very important for subject titles\n",
    "                    # Check if message has been parsed correctly\n",
    "                    if emails[year][month][idx].keys() == []:\n",
    "                        print(f\"Issue with mail!\")\n",
    "                        print(file)                            \n",
    "                counter += 1\n",
    "    print(f\"Received {counter} emails from {year_range[0]} to {year_range[1]-1}.\") \n",
    "    return emails"
   ]
  },
  {
   "cell_type": "code",
   "execution_count": null,
   "id": "d3962d0e",
   "metadata": {},
   "outputs": [],
   "source": [
    "#emails_all = get_emails_from_folder((1997,2025))"
   ]
  },
  {
   "cell_type": "code",
   "execution_count": null,
   "id": "578ec70b-577f-432c-bea9-0464ba233791",
   "metadata": {},
   "outputs": [],
   "source": [
    "#emails_2024 = get_emails_from_folder((2024,2025))"
   ]
  },
  {
   "cell_type": "markdown",
   "id": "06334c78-5522-4872-84c2-7e7c81b5e1eb",
   "metadata": {},
   "source": [
    "## Speichern & Laden der E-Mails"
   ]
  },
  {
   "cell_type": "code",
   "execution_count": null,
   "id": "3fe208a5-56ec-4002-a543-e775f335e695",
   "metadata": {},
   "outputs": [],
   "source": [
    "### Save data locally so that get_emails_from_folder() does not have to run twice\n",
    "import pickle\n",
    "\n",
    "#with open(\"storage_all.pkl\", \"wb\") as f:\n",
    "    #pickle.dump(emails_all, f)\n",
    "\n",
    "#with open(\"storage_2024.pkl\", \"wb\") as f:\n",
    "    #pickle.dump(emails_2024, f)"
   ]
  },
  {
   "cell_type": "code",
   "execution_count": 2,
   "id": "efb8b627-e910-4062-9d67-211e3358d8cb",
   "metadata": {},
   "outputs": [],
   "source": [
    "# Open data\n",
    "import pickle\n",
    "\n",
    "#with open(\"storage_all.pkl\", \"rb\") as f:\n",
    " #   emails_all = pickle.load(f)\n",
    "\n",
    "with open(\"storage_2024.pkl\", \"rb\") as f:\n",
    "    emails_2024 = pickle.load(f)"
   ]
  },
  {
   "cell_type": "markdown",
   "id": "7758eb15-4ff7-4fb8-9f4d-a4df17d3245b",
   "metadata": {},
   "source": [
    "## Datenerzeugung aus E-Mails"
   ]
  },
  {
   "cell_type": "code",
   "execution_count": 3,
   "id": "e2b17094",
   "metadata": {},
   "outputs": [],
   "source": [
    "def get_content_from_emails(email_dict: Dict[int, Dict[str, Dict[int, email.message.Message]]]) -> Dict:\n",
    "    '''\n",
    "    Extract CONTENT, SUBJECT, SENDER from emails retrieved via get_emails_from_folder().\n",
    "\n",
    "    Parameters\n",
    "    ----------\n",
    "        email_dict: Dict[str, Dict[str, Dict[int, email.message.Message]]\n",
    "            The dictionary with emails, retrieved using get_emails_from_folder().\n",
    "\n",
    "    Returns\n",
    "    -------\n",
    "        (Dict) \n",
    "        \n",
    "        {\n",
    "            YEAR: {\n",
    "                MONTH: {\n",
    "                    1: {\n",
    "                        \"subject\": \"<SUBJECT>\",\n",
    "                        \"text\": \"<TEXT>\",\n",
    "                        \"sender\": \"<SENDER>\"\n",
    "                    }\n",
    "                    ...\n",
    "                    \"counter\": <INT>\n",
    "                }\n",
    "                ...\n",
    "                \"counter\": <INT>\n",
    "            }\n",
    "            \"counter\": <INT>\n",
    "        }\n",
    "    '''\n",
    "    emails = dict()\n",
    "    counter = 0\n",
    "    for year in email_dict:\n",
    "        counter_year = 0\n",
    "        emails[year] = dict()\n",
    "        for month in email_dict[year]:\n",
    "            counter_month = 0\n",
    "            emails[year][month] = dict()\n",
    "            for idx, mail in email_dict[year][month].items():\n",
    "                text = parse_mime_tree(mail)\n",
    "                sender = parse_mime_sender(mail)\n",
    "                subject = parse_mime_subject(mail)\n",
    "                emails[year][month][idx] = {\n",
    "                    \"text\": text,\n",
    "                    \"subject\": subject,\n",
    "                    \"sender\": sender\n",
    "                }\n",
    "                # Incrementing counters\n",
    "                counter += 1\n",
    "                counter_year += 1\n",
    "                counter_month += 1\n",
    "            emails[year][month][\"counter\"] = counter_month\n",
    "        emails[year][\"counter\"] = counter_year\n",
    "    emails[\"counter\"] = counter\n",
    "    return emails"
   ]
  },
  {
   "cell_type": "code",
   "execution_count": 4,
   "id": "a8590990",
   "metadata": {},
   "outputs": [],
   "source": [
    "#content = get_content_from_emails(emails_all)"
   ]
  },
  {
   "cell_type": "code",
   "execution_count": 5,
   "id": "7d89f393-4dd2-4966-89ba-416d4ec83d88",
   "metadata": {},
   "outputs": [],
   "source": [
    "content_2024 = get_content_from_emails(emails_2024)"
   ]
  },
  {
   "cell_type": "markdown",
   "id": "518a4ec5-4e94-4282-8e33-9ddae5b5798c",
   "metadata": {},
   "source": [
    "## Analyse"
   ]
  },
  {
   "cell_type": "markdown",
   "id": "21a7155e-4cef-49ba-b9b6-d0946c510707",
   "metadata": {
    "jp-MarkdownHeadingCollapsed": true
   },
   "source": [
    "### Betreffszeilen-Analyse"
   ]
  },
  {
   "cell_type": "code",
   "execution_count": null,
   "id": "2487073a-0549-4e01-97f8-a95188c0c76f",
   "metadata": {},
   "outputs": [],
   "source": [
    "def clean_subject(subject: str) -> str:\n",
    "    '''\n",
    "    Function to clean an email-subject using RE.\n",
    "\n",
    "    Parameters\n",
    "    ----------\n",
    "        subject: str\n",
    "            The raw e-mail subject that should be cleaned.\n",
    "\n",
    "    Returns\n",
    "    -------\n",
    "        str\n",
    "            The clean e-mail subject.\n",
    "    '''\n",
    "    CLEANING_PATTERN = re.compile(r\"^re:\\s+\\[ygg\\]|^fwd:\\s+\\[ygg\\]|^aw:\\s+\\[ygg\\]|^re:\\s+fwd:\\s+\\[ygg\\]|^\\[ygg\\]|\\baw:|\\bfwd:|\\bfw:|\\bre:|\\[dolmen\\]|\\[candide\\]\", re.IGNORECASE)\n",
    "    subject = re.sub(CLEANING_PATTERN, \" \", subject)\n",
    "    subject = re.sub(r\"\\s{2,}\", \" \", subject)\n",
    "    subject = subject.strip().lower()\n",
    "    return subject"
   ]
  },
  {
   "cell_type": "code",
   "execution_count": null,
   "id": "07ecb6b2",
   "metadata": {},
   "outputs": [],
   "source": [
    "## Get titles related to conferences and cfps\n",
    "\n",
    "def get_specific_subjects(emails_in: Dict, pattern: re) -> Dict[int, Dict[str,Union[List,int]]]:\n",
    "    '''\n",
    "    Function to count and collect all subjects matching a RE pattern.\n",
    "\n",
    "    Parameters\n",
    "    ----------\n",
    "        emails_in: Dict\n",
    "            The nested content dict from get_content_from_emails().\n",
    "        pattern: re\n",
    "            The RE to match.\n",
    "\n",
    "    Returns\n",
    "    -------\n",
    "        Dictionary:\n",
    "        {\n",
    "            <YEAR>: {\n",
    "                \"titles\": List[str],\n",
    "                \"counter\": int\n",
    "            }\n",
    "            counter = int\n",
    "        }\n",
    "    '''\n",
    "    cfp_dict = dict()\n",
    "    # Create general counter for all years\n",
    "    cfp_dict[\"counter\"] = 0\n",
    "    for year,months in emails_in.items():\n",
    "        if type(year) == int:\n",
    "            cfp_dict[year] = {\n",
    "                \"titles\": list(),\n",
    "                \"counter\": 0\n",
    "            }\n",
    "            for month,messages in months.items():\n",
    "                if month != \"counter\":\n",
    "                    for _,msg in messages.items():\n",
    "                        if _ != \"counter\":\n",
    "                            cln_subject = clean_subject(msg[\"subject\"]) if msg[\"subject\"] else \"\"\n",
    "                            if re.match(pattern, cln_subject):\n",
    "                                cfp_dict[year][\"titles\"].append(msg[\"subject\"])\n",
    "                                cfp_dict[year][\"counter\"] += 1\n",
    "                                cfp_dict[\"counter\"] += 1\n",
    "\n",
    "    return cfp_dict           "
   ]
  },
  {
   "cell_type": "code",
   "execution_count": null,
   "id": "5a5c5ba3-c92a-4794-9e94-0f4758d251b4",
   "metadata": {},
   "outputs": [],
   "source": [
    "## Get titles related to conferences and cfps\n",
    "\n",
    "def get_top_subjects(emails_in) -> Counter:\n",
    "    '''Function to count and collect all subjects.\n",
    "\n",
    "        Parameters\n",
    "        ----------\n",
    "            emails_in: Dict[]\n",
    "                The nested content dict from get_content_from_emails().\n",
    "\n",
    "        Returns\n",
    "        -------\n",
    "            Counter: Counter() object with frequency of cleaned subjects.\n",
    "    '''\n",
    "    counter = Counter()\n",
    "    for year,months in emails_in.items():\n",
    "        if type(year) == int:\n",
    "            for month,messages in months.items():\n",
    "                if month != \"counter\":\n",
    "                    for _,msg in messages.items():\n",
    "                        if _ != \"counter\":\n",
    "                            cln_subject = clean_subject(msg[\"subject\"]) if msg[\"subject\"] else \"\"\n",
    "                            counter[cln_subject] += 1\n",
    "\n",
    "    # Remove empty subject lines\n",
    "    if \"\" in counter:\n",
    "        del counter[\"\"]\n",
    "    return counter"
   ]
  },
  {
   "cell_type": "code",
   "execution_count": null,
   "id": "12fbcdb9",
   "metadata": {},
   "outputs": [],
   "source": [
    "CFP_RE_PATTERN = re.compile(r\"cfa|cfp|konferenz|conference|call for paper(s)?|tagung\")\n",
    "ANNOUNCEMENTS_RE_PATTERN = re.compile(r\"ankündigung|publikation|publication|bekanntmachung|announcement\")\n",
    "\n",
    "# Add content dict to analyze here\n",
    "CONTENT = content_2024\n",
    "\n",
    "# Calc stats for topics\n",
    "cfp_subjects_dict = get_specific_subjects(CONTENT, CFP_RE_PATTERN)\n",
    "ann_subjects_dict = get_specific_subjects(CONTENT, ANNOUNCEMENTS_RE_PATTERN)\n",
    "top_subjects = get_top_subjects(CONTENT)\n",
    "print(f\"Von {CONTENT['counter']:,} Nachrichten waren {cfp_subjects_dict['counter']} ({(cfp_subjects_dict['counter']/ CONTENT['counter'])*100:.2f}%) Call for Papers und {ann_subjects_dict['counter']} ({(ann_subjects_dict['counter']/ CONTENT['counter'])*100:.2f}%) Ankündigungen (Bücher, Veranstaltungen usw.).\")"
   ]
  },
  {
   "cell_type": "code",
   "execution_count": null,
   "id": "08ac84d1-0b34-43ab-8b09-ea5c96a52300",
   "metadata": {},
   "outputs": [],
   "source": [
    "top_subjects.most_common(10)"
   ]
  },
  {
   "cell_type": "code",
   "execution_count": null,
   "id": "c8a3c32f-3838-4c62-b0e5-a7c6d6158754",
   "metadata": {},
   "outputs": [],
   "source": [
    "# Gesamtverteilung Beiträge/Monat\n",
    "# Save the month with most posts per year\n",
    "top_month_dict = dict()\n",
    "for year, months in content.items():\n",
    "    if year != \"counter\":\n",
    "        total_sum_year = content[year][\"counter\"]\n",
    "        top_month = \"\"\n",
    "        top_month_counter = 0\n",
    "        for month in months:\n",
    "            if month != \"counter\":\n",
    "                relative_posts = months[month][\"counter\"]/total_sum_year\n",
    "                if relative_posts > top_month_counter:\n",
    "                    top_month_counter = relative_posts\n",
    "                    top_month = month\n",
    "        top_month_dict[year] = top_month"
   ]
  },
  {
   "cell_type": "code",
   "execution_count": null,
   "id": "403874b9-0b5f-44d2-b8b1-5a8ece63baca",
   "metadata": {},
   "outputs": [],
   "source": [
    "top_months_cnt = Counter(top_month_dict.values())"
   ]
  },
  {
   "cell_type": "markdown",
   "id": "4d2afe3b-eccd-4363-b581-006d34304879",
   "metadata": {
    "jp-MarkdownHeadingCollapsed": true
   },
   "source": [
    "### Text-Analyse\n",
    "Dieser Teil konzentriert sich auf die Analyse des Nachrichteninhalts einer Auswahl von Nachrichten. Mit der Methode `get_messages_from_specific_subjects()` kann erst eine Auswahl an E-Mails basierend auf einem RE.match der Überschriften erstellt werden. Die Daten für die ausgewählten Mails umfassen:\n",
    "\n",
    "1. Eine lemmatisierte Version des Textes (in Kleinbuchstaben gesetzt, nur alphabetische Wörter).\n",
    "2. Eine Liste mit NEs (*named entitites*) und den NE-Kategorien, die in den Nachrichten vorkommen.\n",
    "\n",
    "Die Analyse besteht in einem BOW der lemmatisierten Nachrichten via `bow()` und einer Auswertung der NEs via `ner()`.\n",
    "\n",
    "Leider sind diese Analysen noch sehr schwierig auszuwerten. So kommen viele Orte, Namen und Phrasen (\"Wenn Sie keine Mails mehr erhalten möchten...\", \"Yggdrasill\" etc.) nur so häufig vor, weil sich der Inhalt von E-Mails durch Zitate in anderen E-Mails wiederholt oder weil Orte bzw. Institutionen wie \"Universität Graz\" von beteiligten Personen in einer Signatur unter den Beiträgen verwendet werden. Diese sagen aber noch nichts über das eigentliche Thema aus.\n"
   ]
  },
  {
   "cell_type": "code",
   "execution_count": null,
   "id": "426bbf9f-d114-4da0-ba1b-92ac1b4bc68a",
   "metadata": {},
   "outputs": [],
   "source": [
    "def clean_text(text: str, nlp) -> Tuple[str, List[str]]:\n",
    "    '''Function to clean text (message from email) using spaCy and more. Also returns lists of NER.\n",
    "\n",
    "        Parameters\n",
    "        ----------\n",
    "            text: in\n",
    "                The message from the email.\n",
    "            nlp: spaCy pipeline\n",
    "                The spaCy pipeline for the text processing.\n",
    "\n",
    "        Returns\n",
    "        -------\n",
    "            Clean text string.\n",
    "    '''\n",
    "    text = nlp(text)\n",
    "    # lemmata\n",
    "    lemmata = [token.lemma_ for token in text if token.is_alpha and not token.is_stop]\n",
    "    lemmata = [lemma.lower() for lemma in lemmata]\n",
    "    # ners\n",
    "    ner = [(token.text.lower(), token.label_) for token in text.ents]\n",
    "    return (\" \".join(lemmata), ner)"
   ]
  },
  {
   "cell_type": "code",
   "execution_count": null,
   "id": "83ea1edd-2e0d-4583-aada-611297d2b126",
   "metadata": {},
   "outputs": [],
   "source": [
    "def get_messages_from_specific_subjects(emails_in, pattern) -> Dict[int, Dict[str,Union[List,int]]]:\n",
    "    '''Function to count and collect all messages from emails with subjects matching a RE pattern.\n",
    "\n",
    "        Parameters\n",
    "        ----------\n",
    "            emails_in: Dict[]\n",
    "                The nested content dict from get_content_from_emails().\n",
    "            pattern: re\n",
    "                The RE to match.\n",
    "\n",
    "        Returns\n",
    "        -------\n",
    "            Dictionary:\n",
    "            {\n",
    "                <YEAR>: {\n",
    "                    \"messages\": List[str],\n",
    "                    \"counter\": int\n",
    "                    \"ner\": List[Tuple[str,str]]\n",
    "                }\n",
    "\n",
    "                counter: int\n",
    "            }\n",
    "    '''\n",
    "    cfp_dict = dict()\n",
    "    # Create general counter for all years\n",
    "    cfp_dict[\"counter\"] = 0\n",
    "    # Create spaCy pipeline to pass to clean_text() later\n",
    "    nlp = spacy.load(\"de_core_news_md\")\n",
    "    for year,months in emails_in.items():\n",
    "        if type(year) == int:\n",
    "            cfp_dict[year] = {\n",
    "                \"messages\": list(),\n",
    "                \"counter\": 0,\n",
    "                \"ner\": list()\n",
    "            }\n",
    "            for month,messages in months.items():\n",
    "                if month != \"counter\":\n",
    "                    for _,msg in messages.items():\n",
    "                        if _ != \"counter\":\n",
    "                            cln_subject = clean_subject(msg[\"subject\"]) if msg[\"subject\"] else \"\"\n",
    "                            if re.search(pattern, cln_subject):\n",
    "                                # Only get clean text\n",
    "                                text, ner = clean_text(msg[\"text\"], nlp)\n",
    "                                cfp_dict[year][\"messages\"].append(text)\n",
    "                                cfp_dict[year][\"ner\"].extend(ner)\n",
    "                                cfp_dict[year][\"counter\"] += 1\n",
    "                                cfp_dict[\"counter\"] += 1\n",
    "\n",
    "    return cfp_dict      "
   ]
  },
  {
   "cell_type": "code",
   "execution_count": null,
   "id": "b58fec6a-bcc9-4645-9754-ebf10c135c81",
   "metadata": {},
   "outputs": [],
   "source": [
    "def bow(messages_dict: dict) -> Counter:\n",
    "    '''Function to create a simple bag-of-words Counter() from a dictionary with messages from emails.\n",
    "    '''\n",
    "    cnt = Counter()\n",
    "    for year,data in messages_dict.items():\n",
    "        if type(year) == int:\n",
    "            for k,v in data.items():\n",
    "                if k == \"messages\":\n",
    "                    for text in v:\n",
    "                        cnt.update(text.split())\n",
    "    return cnt\n",
    "    "
   ]
  },
  {
   "cell_type": "code",
   "execution_count": null,
   "id": "a664f926-9de6-407f-ac6e-5836e1af7c76",
   "metadata": {},
   "outputs": [],
   "source": [
    "def ner_analysis(messages_dict: dict) -> Tuple[Counter]:\n",
    "    '''Function to analyze list of ners in dictionary created with get_messages_from_specific_subjects().\n",
    "    '''\n",
    "    cnt_text = Counter()\n",
    "    cnt_label = Counter()\n",
    "    for year,data in messages_dict.items():\n",
    "        if type(year) == int:\n",
    "            for k,v in data.items():\n",
    "                if k == \"ner\":\n",
    "                    for tpl in v:\n",
    "                        cnt_text.update([tpl[0]])\n",
    "                        cnt_label.update([tpl[1]])\n",
    "    return (cnt_text, cnt_label)"
   ]
  },
  {
   "cell_type": "code",
   "execution_count": null,
   "id": "a6810d4d-ea54-4869-8213-5cd47da91bf6",
   "metadata": {},
   "outputs": [],
   "source": [
    "# Get specific subject\n",
    "spec_sub_dict = get_messages_from_specific_subjects(CONTENT, re.compile(r\"wissenschaftsfreiheit und antisemitismus\"))"
   ]
  },
  {
   "cell_type": "code",
   "execution_count": null,
   "id": "dfa547f0-d5bd-4ecb-8a52-ca5d575f4cf7",
   "metadata": {},
   "outputs": [],
   "source": [
    "# Saving the messages for external corpus linguistics\n",
    "def store_messages_for_corpus_linguistics(messages_list: List[str], filename: str = \"messages4cl.txt\") -> None:\n",
    "    '''\n",
    "    Saves messages locally in a file where each message is a single line.\n",
    "\n",
    "    Parameters\n",
    "    ----------\n",
    "        messages_list: List[str]\n",
    "            The list of messages (emails).\n",
    "\n",
    "        filename: str, optional\n",
    "            The filename, default is \"messages4cl.txt\".\n",
    "\n",
    "    Returns\n",
    "    -------\n",
    "        None\n",
    "    '''\n",
    "    with open(filename, \"w\", encoding=\"utf-8\") as f:\n",
    "        for msg in messages_list:\n",
    "            f.write(msg+\"n\")"
   ]
  },
  {
   "cell_type": "code",
   "execution_count": null,
   "id": "040556b0-12fb-43c8-b35b-963c5172c32e",
   "metadata": {},
   "outputs": [],
   "source": [
    "store_messages_for_corpus_linguistics(spec_sub_dict[2024][\"messages\"])"
   ]
  },
  {
   "cell_type": "code",
   "execution_count": null,
   "id": "ac8d2547-45ac-424f-8f1f-d583b205aa64",
   "metadata": {},
   "outputs": [],
   "source": [
    "#bow(spec_sub_dict)"
   ]
  },
  {
   "cell_type": "code",
   "execution_count": null,
   "id": "bd1bcb37-0992-4b2a-9e5f-9ac3a7c092dc",
   "metadata": {},
   "outputs": [],
   "source": [
    "#ner_analysis(spec_sub_dict)"
   ]
  },
  {
   "cell_type": "markdown",
   "id": "c60677d8-202c-4cc9-a184-f37feaf78aef",
   "metadata": {},
   "source": [
    "### Autoren-Analyse"
   ]
  },
  {
   "cell_type": "code",
   "execution_count": 6,
   "id": "d2d0cdf9-1e31-4cf0-9e97-a857d967d641",
   "metadata": {},
   "outputs": [],
   "source": [
    "def clean_sender(sender: str) -> str:\n",
    "    '''Function to clean an email-from field using RE.\n",
    "    '''\n",
    "    SEARCH_PATTERN = re.compile(r\"\\b[A-Za-z0-9._%+-]+@[A-Za-z0-9.-]+\\.[A-Z|a-z]{2,}\\b\", re.IGNORECASE)\n",
    "    sender_clean = re.findall(SEARCH_PATTERN, sender)\n",
    "    sender_clean = sender_clean[0].strip().lower() if len(sender_clean) > 0 else \"\"\n",
    "    if sender_clean == \"yggdrasill@lists.uni-marburg.de\":\n",
    "        # If the sender was the mailing list, try and find the name of the sender instead of email\n",
    "        # Should not be necessary any more since X-Original-From field is now also parsed from .eml files\n",
    "        sender_clean = re.findall(r'^.*?[(<]', sender)\n",
    "        sender_clean = sender_clean[0].strip().lower() if len(sender_clean) > 0 else \"\"\n",
    "        sender_clean = re.sub(r\"\\W+\", \" \", sender_clean)\n",
    "        sender_clean = re.sub(r\"\\s{2,}\", \" \", sender_clean)\n",
    "    return sender_clean.strip()"
   ]
  },
  {
   "cell_type": "code",
   "execution_count": 7,
   "id": "8bbcad4b-438f-4f51-940c-47f5b70a87b2",
   "metadata": {},
   "outputs": [],
   "source": [
    "def get_top_sender(emails_in) -> Counter:\n",
    "    '''Function to count and collect sender.\n",
    "\n",
    "        Parameters\n",
    "        ----------\n",
    "            emails_in: Dict\n",
    "                The nested content dict from get_content_from_emails().\n",
    "\n",
    "        Returns\n",
    "        -------\n",
    "            Counter: Counter() object with frequency of cleaned sender data.\n",
    "    '''\n",
    "    counter = Counter()\n",
    "    for year,months in emails_in.items():\n",
    "        if type(year) == int:\n",
    "            for month,messages in months.items():\n",
    "                if month != \"counter\":\n",
    "                    for _,msg in messages.items():\n",
    "                        if _ != \"counter\":\n",
    "                            cln_sender = clean_sender(msg[\"sender\"]) if msg[\"sender\"] else \"\"\n",
    "                            counter[cln_sender] += 1\n",
    "    return counter\n",
    "                    \n",
    "                "
   ]
  },
  {
   "cell_type": "code",
   "execution_count": 8,
   "id": "95b603e8-d20a-4228-8f8f-c819b911e00d",
   "metadata": {},
   "outputs": [],
   "source": [
    "sender_counter = get_top_sender(content_2024)"
   ]
  },
  {
   "cell_type": "code",
   "execution_count": 13,
   "id": "2d81fc70-deb3-4799-8321-0254c6350d27",
   "metadata": {},
   "outputs": [],
   "source": [
    "#sender_counter.most_common(10)"
   ]
  },
  {
   "cell_type": "code",
   "execution_count": 16,
   "id": "c8aaec66-b390-4931-a8a3-a8f13222eb17",
   "metadata": {},
   "outputs": [],
   "source": [
    "def plot_cumsum_author_posts(posts: List[int]):\n",
    "    # Sortiere Liste mit Beitragsanzahl absteigend\n",
    "    posts = sorted(posts)[::-1]\n",
    "    # Berechne die kumulative Summe\n",
    "    cumulative_sum = np.cumsum(posts)\n",
    "    # Erstelle den Plot\n",
    "    plt.figure(figsize=(8, 5))  # Größe des Diagramms\n",
    "    plt.plot(range(1, len(posts)+1), cumulative_sum, linestyle='-', color='b')\n",
    "    \n",
    "    # Beschriftungen und Titel hinzufügen\n",
    "    plt.xlabel('% Beitragende (absteigend nach Beiträgen)')\n",
    "    plt.ylabel('Kumulative Summe d. Beiträge')\n",
    "    plt.title('Yggdrasill Beiträge 2024')\n",
    "\n",
    "    # Gitterlinien hinzufügen (optional)\n",
    "    plt.grid(True)\n",
    "\n",
    "    # X-Ticks ausblenden\n",
    "    x_ticks = [0, len(posts)//4, len(posts)//2, len(posts)//4*3, len(posts)]\n",
    "    x_labels = [\"0%\", \"25%\", \"50%\", \"75%\", \"100%\"]\n",
    "    plt.xticks(x_ticks, x_labels)\n",
    "    \n",
    "    # Anzeigen des Plots\n",
    "    plt.savefig(\"cumsum_2024.png\")\n",
    "    plt.show()"
   ]
  },
  {
   "cell_type": "code",
   "execution_count": 17,
   "id": "0cc1184d-fc47-4adb-99d3-5dd6f8b94e27",
   "metadata": {},
   "outputs": [],
   "source": [
    "posts_desc = list()\n",
    "\n",
    "for _,v in sender_counter.items():\n",
    "    posts_desc.append(v)"
   ]
  },
  {
   "cell_type": "code",
   "execution_count": 18,
   "id": "29746e14-acc3-4141-8edd-735d0e316917",
   "metadata": {},
   "outputs": [
    {
     "data": {
      "image/png": "[encoded data removed]",
      "text/plain": [
       "<Figure size 800x500 with 1 Axes>"
      ]
     },
     "metadata": {},
     "output_type": "display_data"
    }
   ],
   "source": [
    "plot_cumsum_author_posts(posts_desc)"
   ]
  },
  {
   "cell_type": "code",
   "execution_count": 9,
   "id": "8a4fd378-8c59-44d0-b7ea-5da5c784c50d",
   "metadata": {},
   "outputs": [
    {
     "data": {
      "text/plain": [
       "176"
      ]
     },
     "execution_count": 9,
     "metadata": {},
     "output_type": "execute_result"
    }
   ],
   "source": [
    "# Anzahl Sender\n",
    "len(sender_counter)"
   ]
  },
  {
   "cell_type": "code",
   "execution_count": 28,
   "id": "b11acaac-9594-4fc2-9003-9bc30cdf60e5",
   "metadata": {},
   "outputs": [],
   "source": [
    "from openai import OpenAI\n",
    "\n",
    "def get_gender(email_address: str)  -> Union[Literal[\"w\"],Literal[\"m\"],Literal[\"e\"]]:\n",
    "    '''Function to predict if a given email address belongs to a) man b) woman c) else (institution etc.).\n",
    "    Using OpenAI API for prediction.\n",
    "    '''\n",
    "    \n",
    "    client = OpenAI()\n",
    "\n",
    "    completion = client.chat.completions.create(\n",
    "        model=\"gpt-4o-mini\",\n",
    "        messages=[\n",
    "            {\"role\": \"system\", \"content\": \"You are a minimalistic assistant, skilled in predicting whether an email address belongs to a woman, man or else. For woman, you respond w, for man you respond m, and for else with e. So your response has only one character!\"},\n",
    "            {\"role\": \"user\", \"content\": f\"{email_address}\"}\n",
    "        ]\n",
    "    )\n",
    "\n",
    "    return completion.choices[0].message.content\n",
    "    "
   ]
  },
  {
   "cell_type": "code",
   "execution_count": 24,
   "id": "a8182ec2-6df5-4085-b429-33806873a2eb",
   "metadata": {},
   "outputs": [],
   "source": [
    "def predict_gender_from_emails(sender_counter: Counter) -> dict:\n",
    "    '''Function to predict gender from email addresses via get_gender().\n",
    "    '''\n",
    "    email_gender_dict = dict()\n",
    "    for name,_ in sender_counter.items():\n",
    "        pred = get_gender(name)\n",
    "        email_gender_dict[name] = pred\n",
    "\n",
    "    return email_gender_dict\n",
    "    "
   ]
  },
  {
   "cell_type": "code",
   "execution_count": 25,
   "id": "2e64300a-b6ea-4671-84b1-d5b60ec8a9e4",
   "metadata": {},
   "outputs": [],
   "source": [
    "def sender_gender_distro(sender_dict, mapping: dict) -> Counter():\n",
    "    '''Function to calculate m/w/e ration of Ygg-participations.\n",
    "    '''\n",
    "    cnt = dict()\n",
    "    cnt[\"w\"] = 0\n",
    "    cnt[\"m\"] = 0\n",
    "    cnt[\"e\"] = 0\n",
    "    for name,posts in sender_dict.items():\n",
    "        gender = mapping[name]\n",
    "        cnt[gender] += posts\n",
    "    return cnt"
   ]
  },
  {
   "cell_type": "code",
   "execution_count": 26,
   "id": "859fa083-0769-40c0-b907-53c63debe822",
   "metadata": {},
   "outputs": [],
   "source": [
    "dic_ = predict_gender_from_emails(sender_counter)"
   ]
  },
  {
   "cell_type": "code",
   "execution_count": 37,
   "id": "4e852833-99b0-4e09-8aa1-164de10baeae",
   "metadata": {},
   "outputs": [],
   "source": [
    "# save predictions\n",
    "#with open(\"sender_gender_2024.pkl\", \"wb\") as f:\n",
    "    #pickle.dump(dic_, f)"
   ]
  },
  {
   "cell_type": "code",
   "execution_count": 38,
   "id": "2e464776-8222-45f0-9e45-48c684ee3cc4",
   "metadata": {},
   "outputs": [],
   "source": [
    "# load predictions\n",
    "with open(\"sender_gender_2024.pkl\", \"rb\") as f:\n",
    "    dic_ = pickle.load(f)"
   ]
  },
  {
   "cell_type": "code",
   "execution_count": 39,
   "id": "14e34b5b-63d2-472d-9264-27246b43c0d7",
   "metadata": {},
   "outputs": [
    {
     "ename": "IndentationError",
     "evalue": "unexpected indent (1932170615.py, line 3)",
     "output_type": "error",
     "traceback": [
      "\u001b[0;36m  Cell \u001b[0;32mIn[39], line 3\u001b[0;36m\u001b[0m\n\u001b[0;31m    print(email)\u001b[0m\n\u001b[0m    ^\u001b[0m\n\u001b[0;31mIndentationError\u001b[0m\u001b[0;31m:\u001b[0m unexpected indent\n"
     ]
    }
   ],
   "source": [
    "# Manually check if gender is okay\n",
    "#for email, gender in dic_.items():\n",
    "    print(email)\n",
    "    print(gender)\n",
    "    feedback = input(\"Change?\")\n",
    "    if feedback in [\"e\",\"w\",\"m\"]:\n",
    "        print(\"Changed!\")\n",
    "        dic_[email] = feedback"
   ]
  },
  {
   "cell_type": "code",
   "execution_count": 41,
   "id": "22056cbf-7c1a-43ec-b3d7-e12198f007df",
   "metadata": {},
   "outputs": [],
   "source": [
    "sg_dict = sender_gender_distro(sender_counter, dic_)"
   ]
  },
  {
   "cell_type": "code",
   "execution_count": 45,
   "id": "c10e9365-53f3-460e-939b-f40083e8dad7",
   "metadata": {},
   "outputs": [
    {
     "data": {
      "text/plain": [
       "{'w': 218, 'm': 307, 'e': 39}"
      ]
     },
     "execution_count": 45,
     "metadata": {},
     "output_type": "execute_result"
    }
   ],
   "source": [
    "sg_dict"
   ]
  },
  {
   "cell_type": "code",
   "execution_count": 53,
   "id": "f82283b3-acc1-453e-826d-7d204098eadf",
   "metadata": {},
   "outputs": [
    {
     "name": "stdout",
     "output_type": "stream",
     "text": [
      "38.65% der Diskussionsteilnehmenden waren weiblich, 54.43% männlich und 6.91% unbekannt (Funktionsadressen, Institutionen etc.).\n"
     ]
    }
   ],
   "source": [
    "sg_sum = sg_dict[\"w\"] + sg_dict[\"m\"] + sg_dict[\"e\"]\n",
    "\n",
    "print(f'{(sg_dict[\"w\"]/sg_sum)*100:.2f}% der Diskussionsteilnehmenden waren weiblich, {(sg_dict[\"m\"]/sg_sum)*100:.2f}% männlich und {(sg_dict[\"e\"]/sg_sum)*100:.2f}% unbekannt (Funktionsadressen, Institutionen etc.).')"
   ]
  },
  {
   "cell_type": "code",
   "execution_count": 55,
   "id": "e003d0d0-c0c3-417a-a172-9e250eba1b6d",
   "metadata": {},
   "outputs": [],
   "source": [
    "def pie_chart(labels: List[str], sizes: List[float]) -> None:\n",
    "\n",
    "    # Farben für die Abschnitte\n",
    "    colors = ['lightcoral', 'lightskyblue', 'lightgreen']\n",
    "    \n",
    "    # Explodieren eines oder mehrerer Abschnitte\n",
    "    explode = (0.01, 0, 0)\n",
    "    \n",
    "    # Erstellen des Pie Charts\n",
    "    plt.figure(figsize=(8, 8))\n",
    "    plt.pie(sizes, explode=explode, labels=labels, colors=colors, autopct='%1.2f%%', shadow=True, startangle=140)\n",
    "    \n",
    "    plt.title('Yggdrasill Gender-Analyse 2024')\n",
    "    \n",
    "    # Anzeigen des Pie Charts\n",
    "    plt.axis('equal') \n",
    "\n",
    "    plt.savefig(\"gender_pie.png\")\n",
    "    plt.show()"
   ]
  },
  {
   "cell_type": "code",
   "execution_count": 56,
   "id": "eda66a97-f077-4221-809b-52f5e4575b31",
   "metadata": {},
   "outputs": [],
   "source": [
    "labels = [\"M\", \"W\", \"E\"]\n",
    "sizes = [54.43, 38.65, 6.91]"
   ]
  },
  {
   "cell_type": "code",
   "execution_count": 57,
   "id": "4ec97dad-5a14-4d53-8eda-02e8aa604378",
   "metadata": {},
   "outputs": [
    {
     "data": {
      "image/png": "[encoded data removed]",
      "text/plain": [
       "<Figure size 800x800 with 1 Axes>"
      ]
     },
     "metadata": {},
     "output_type": "display_data"
    }
   ],
   "source": [
    "pie_chart(labels, sizes)"
   ]
  },
  {
   "cell_type": "markdown",
   "id": "6cd09abe-1d86-4512-ad5a-0e9e907ea7bd",
   "metadata": {},
   "source": [
    "### Visualisierungen"
   ]
  },
  {
   "cell_type": "code",
   "execution_count": null,
   "id": "5e4d3a4d-858b-4a1b-bc62-da2b1410ba4c",
   "metadata": {},
   "outputs": [],
   "source": [
    "import matplotlib.pyplot as plt\n",
    "import pandas as pd\n",
    "import seaborn as sns\n",
    "\n",
    "# Create a line plot with enhanced styling\n",
    "sns.set_style(\"whitegrid\")  # Set the background style\n",
    "sns.set_palette(\"viridis\")  # Set the color palette\n",
    "\n",
    "def plot_posts_per_year(emails):\n",
    "    '''Function to plot the number of posts per year.\n",
    "    \n",
    "    '''\n",
    "    dict_ = dict()\n",
    "    for year,data in emails.items():\n",
    "        if type(year) == int:\n",
    "            dict_[str(year)] = data[\"counter\"]\n",
    "    df = pd.DataFrame(dict_.items(), columns=[\"Jahr\", \"Beiträge\"])\n",
    "    sns.lineplot(x=df[\"Jahr\"], y=df[\"Beiträge\"], marker='o', markersize=8, linestyle='-', linewidth=2)\n",
    "    plt.title(f\"Yggdrasill Beiträge/Jahr 1997-heute\", fontsize=16)\n",
    "    plt.xlabel(\"Jahr\", fontsize=13)\n",
    "    plt.xticks(rotation=45)\n",
    "    plt.ylabel(\"Beiträge\", fontsize=13)\n",
    "    plt.ylim(0, df[\"Beiträge\"].max()+200)\n",
    "    plt.tight_layout()\n",
    "    plt.savefig(f\"yearly_stats.png\")\n",
    "    "
   ]
  },
  {
   "cell_type": "code",
   "execution_count": null,
   "id": "6309a08e-502b-4849-8070-c92efb393750",
   "metadata": {},
   "outputs": [],
   "source": [
    "plot_posts_per_year(content)"
   ]
  },
  {
   "cell_type": "code",
   "execution_count": null,
   "id": "39262418-7b20-44a0-a778-55880b2b4842",
   "metadata": {},
   "outputs": [],
   "source": [
    "def plot_posts_in_year(emails, year: int):\n",
    "    '''Function to plot the number of posts/month of a particular year.\n",
    "    \n",
    "    '''\n",
    "    dict_ = dict()\n",
    "    for month,data in emails[year].items():\n",
    "        if month != \"counter\":\n",
    "            dict_[MONTH_MAPPING[month]] = data[\"counter\"]\n",
    "    df = pd.DataFrame(dict_.items(), columns=[\"Monat\", \"Beiträge\"])\n",
    "    sns.lineplot(x=df[\"Monat\"], y=df[\"Beiträge\"], marker='o', markersize=8, linestyle='-', linewidth=2)\n",
    "    plt.title(f\"Yggdrasill Beiträge/Monat {year}\", fontsize=16)\n",
    "    plt.xlabel(\"Monat\", fontsize=13)\n",
    "    plt.xticks(rotation=45)\n",
    "    plt.ylabel(\"Beiträge\", fontsize=13)\n",
    "    plt.ylim(0, df[\"Beiträge\"].max()+20)\n",
    "    plt.tight_layout()\n",
    "    plt.savefig(f\"posts_in_{year}.png\")\n",
    "    "
   ]
  },
  {
   "cell_type": "code",
   "execution_count": null,
   "id": "739691b4-e845-42d5-ab07-db854ea8ca47",
   "metadata": {},
   "outputs": [],
   "source": [
    "plot_posts_in_year(content,2024)"
   ]
  },
  {
   "cell_type": "code",
   "execution_count": null,
   "id": "ecdf354b-b6a2-479c-bca5-112aaa77a11a",
   "metadata": {},
   "outputs": [],
   "source": [
    "def plot_top_months(cnt_dict: Counter):\n",
    "    '''Function to plot how often each month had most posts in a year.\n",
    "    \n",
    "    '''\n",
    "    dict_ = dict()\n",
    "    for month,data in cnt_dict.items():\n",
    "        dict_[MONTH_MAPPING[month]] = data\n",
    "    df = pd.DataFrame(dict_.items(), columns=[\"Monat\", \"Meiste Beiträge\"])\n",
    "    # Definieren der korrekten Reihenfolge der Monate & sortiere anschließend\n",
    "    monate_order = [\"JAN\", \"FEB\", \"MAR\", \"APR\", \"MAI\", \"JUN\",\n",
    "                    \"JUL\", \"AUG\", \"SEP\", \"OCT\", \"NOV\", \"DEC\"]    \n",
    "    df[\"Monat\"] = pd.Categorical(df[\"Monat\"], categories=monate_order, ordered=True)\n",
    "    df = df.sort_values(\"Monat\")\n",
    "    sns.barplot(x=df[\"Monat\"], y=df[\"Meiste Beiträge\"])\n",
    "    plt.title(f\"Monate mit den meisten Beiträgen (1997-2024)\", fontsize=16)\n",
    "    plt.xlabel(\"Monat\", fontsize=13)\n",
    "    plt.xticks(rotation=45)\n",
    "    plt.ylabel(\"Meiste Beiträge\", fontsize=13)\n",
    "    plt.tight_layout()\n",
    "    plt.savefig(f\"top_months.png\")\n",
    "    "
   ]
  },
  {
   "cell_type": "code",
   "execution_count": null,
   "id": "0a9f3924-0cc9-47e6-a302-d5c6113a8421",
   "metadata": {},
   "outputs": [],
   "source": [
    "plot_top_months(top_months_cnt)"
   ]
  },
  {
   "cell_type": "code",
   "execution_count": null,
   "id": "02f5f308-2e83-4d38-9605-9c76c177554e",
   "metadata": {},
   "outputs": [],
   "source": [
    "top_months_cnt.items()"
   ]
  }
 ],
 "metadata": {
  "kernelspec": {
   "display_name": "Python 3 (ipykernel)",
   "language": "python",
   "name": "python3"
  },
  "language_info": {
   "codemirror_mode": {
    "name": "ipython",
    "version": 3
   },
   "file_extension": ".py",
   "mimetype": "text/x-python",
   "name": "python",
   "nbconvert_exporter": "python",
   "pygments_lexer": "ipython3",
   "version": "3.11.0"
  }
 },
 "nbformat": 4,
 "nbformat_minor": 5
}
