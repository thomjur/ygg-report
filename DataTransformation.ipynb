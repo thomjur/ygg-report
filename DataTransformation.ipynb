{
 "cells": [
  {
   "cell_type": "code",
   "execution_count": 1,
   "id": "5ffb7ac5",
   "metadata": {},
   "outputs": [],
   "source": [
    "import glob\n",
    "import pandas as pd\n",
    "import email\n",
    "from email import policy\n",
    "from src.parser.MailTextParser import parse_mime_tree\n",
    "from src.parser.MailSubjectParser import parse_mime_subject\n",
    "from src.parser.MailSenderParser import parse_mime_sender\n",
    "from typing import Dict, List, Optional, Tuple, Union\n",
    "from collections import Counter\n",
    "import re\n",
    "import spacy"
   ]
  },
  {
   "cell_type": "markdown",
   "id": "0d691d97-e72c-4148-bd2b-2a6dda2145ab",
   "metadata": {},
   "source": [
    "## Übersicht\n",
    "\n",
    "Dies ist ein Notebook, das die Beiträge auf einer Mailing Liste (Yggdrasill) strukturiert lädt und auswertet.\n",
    "\n",
    "Folgende Schritte sind derzeit integriert:\n",
    "\n",
    "### Laden und Transformation\n",
    "\n",
    "Todo.\n",
    "\n",
    "### Analyse\n",
    "\n",
    "1. Betreffszeilen-Analyse\n",
    "2. Autoren-Analyse\n",
    "3. Text-Analyse\n",
    "4. Beitragshäufigkeiten-Analyse\n",
    "\n",
    "### Visualisierungen\n",
    "\n",
    "1. Beiträge/Jahr\n",
    "2. Beiträge/Monat (in einem bestimmten Jahr)"
   ]
  },
  {
   "cell_type": "markdown",
   "id": "2d391718-b77c-47b6-927e-033f92c97785",
   "metadata": {},
   "source": [
    "## Hilfsfunktionen\n"
   ]
  },
  {
   "cell_type": "code",
   "execution_count": 2,
   "id": "ba0e3dd7-7411-4f11-9236-7cbc4e7f74a0",
   "metadata": {},
   "outputs": [],
   "source": [
    "MONTH_MAPPING = {\n",
    "    \"01\": \"JAN\",\n",
    "    \"02\": \"FEB\",\n",
    "    \"03\": \"MAR\",\n",
    "    \"04\": \"APR\",\n",
    "    \"05\": \"MAI\",\n",
    "    \"06\": \"JUN\",\n",
    "    \"07\": \"JUL\",\n",
    "    \"08\": \"AUG\",\n",
    "    \"09\": \"SEP\",\n",
    "    \"10\": \"OCT\",\n",
    "    \"11\": \"NOV\",\n",
    "    \"12\": \"DEC\"\n",
    "}"
   ]
  },
  {
   "cell_type": "code",
   "execution_count": 3,
   "id": "8972551a-da0b-4030-a6fd-df9fc774c28b",
   "metadata": {},
   "outputs": [],
   "source": [
    "def guess_encoding(file_path):\n",
    "    encodings = ['utf-8', 'iso-8859-1', 'windows-1252']  # Add more as needed\n",
    "    for enc in encodings:\n",
    "        try:\n",
    "            with open(file_path, encoding=enc) as file:\n",
    "                content = file.read()\n",
    "                if content == None:\n",
    "                    print(\"NONE\")\n",
    "                return enc\n",
    "        except UnicodeDecodeError:\n",
    "            continue\n",
    "    print(f\"Could not open {file_path}. Maybe wrong encoding?\")\n",
    "    return None"
   ]
  },
  {
   "cell_type": "markdown",
   "id": "dd77a87d-36a7-484b-9909-e5d6ec933330",
   "metadata": {},
   "source": [
    "## Hauptfunktionen"
   ]
  },
  {
   "cell_type": "code",
   "execution_count": 4,
   "id": "a3d72e7b",
   "metadata": {},
   "outputs": [],
   "source": [
    "def get_emails_from_folder(year_range: Tuple[int,int]) -> Dict[int, Dict[str, Dict[int, email.message.Message]]]:\n",
    "    '''Get all emails from email folders stored under data/.\n",
    "\n",
    "        Parameters\n",
    "        ----------\n",
    "            year_range: Tuple(int,int)\n",
    "                The year range, where starting year is _inclusive_ and end year is _exclusive_.\n",
    "\n",
    "        Returns\n",
    "        -------\n",
    "            (Dict) \n",
    "            \n",
    "            {\n",
    "                YEAR: {\n",
    "                    MONTH: {\n",
    "                        1: <email.message.Message>\n",
    "                    }\n",
    "                    ...\n",
    "                }\n",
    "            }\n",
    "    '''\n",
    "    emails = dict()\n",
    "    counter = 0\n",
    "    for year in range(year_range[0],year_range[1]):\n",
    "        emails[year] = dict()\n",
    "        for month in MONTH_MAPPING:\n",
    "            emails[year][month] = dict()\n",
    "            for idx, file in enumerate(glob.glob(f\"data/{year}/yggdrasill_{year}-{month}/*\")):\n",
    "                # guess encoding first, since there are quite a few non-UTF-8 mails\n",
    "                enc = guess_encoding(file)\n",
    "                with open(file, \"r\", encoding=enc) as f:\n",
    "                    emails[year][month][idx] = email.message_from_file(f, policy=policy.default) # the policy-default is very important for subject titles\n",
    "                    # check if message has been parsed correctly\n",
    "                    if emails[year][month][idx].keys() == []:\n",
    "                        print(f\"Issue with mail!\")\n",
    "                        print(file)                            \n",
    "                counter += 1\n",
    "    print(f\"Received {counter} emails from {year_range[0]} to {year_range[1]-1}.\") \n",
    "    return emails"
   ]
  },
  {
   "cell_type": "code",
   "execution_count": 5,
   "id": "d3962d0e",
   "metadata": {},
   "outputs": [],
   "source": [
    "#emails_all = get_emails_from_folder((1997,2024))"
   ]
  },
  {
   "cell_type": "code",
   "execution_count": 6,
   "id": "578ec70b-577f-432c-bea9-0464ba233791",
   "metadata": {},
   "outputs": [],
   "source": [
    "#emails_2023 = get_emails_from_folder((2023,2024))"
   ]
  },
  {
   "cell_type": "markdown",
   "id": "06334c78-5522-4872-84c2-7e7c81b5e1eb",
   "metadata": {},
   "source": [
    "## Speichern & Laden der E-Mails"
   ]
  },
  {
   "cell_type": "code",
   "execution_count": 7,
   "id": "3fe208a5-56ec-4002-a543-e775f335e695",
   "metadata": {},
   "outputs": [],
   "source": [
    "### save \n",
    "import pickle\n",
    "\n",
    "#with open(\"storage_all.pkl\", \"wb\") as f:\n",
    " #   pickle.dump(emails_all, f)\n",
    "\n",
    "#with open(\"storage_2023.pkl\", \"wb\") as f:\n",
    " #   pickle.dump(emails_2023, f)"
   ]
  },
  {
   "cell_type": "code",
   "execution_count": 8,
   "id": "efb8b627-e910-4062-9d67-211e3358d8cb",
   "metadata": {},
   "outputs": [],
   "source": [
    "# open\n",
    "import pickle\n",
    "\n",
    "with open(\"storage_all.pkl\", \"rb\") as f:\n",
    "    emails_all = pickle.load(f)\n",
    "\n",
    "with open(\"storage_2023.pkl\", \"rb\") as f:\n",
    "    emails_2023 = pickle.load(f)"
   ]
  },
  {
   "cell_type": "markdown",
   "id": "7758eb15-4ff7-4fb8-9f4d-a4df17d3245b",
   "metadata": {},
   "source": [
    "## Datenerzeugung aus E-Mails"
   ]
  },
  {
   "cell_type": "code",
   "execution_count": 9,
   "id": "e2b17094",
   "metadata": {},
   "outputs": [],
   "source": [
    "def get_content_from_emails(email_dict: Dict[int, Dict[str, Dict[int, email.message.Message]]]) -> Dict:\n",
    "    '''Extract CONTENT, SUBJECT, SENDER from emails retrieved via get_emails_from_folder().\n",
    "\n",
    "        Parameters\n",
    "        ----------\n",
    "            email_dict: Dict[str, Dict[str, Dict[int, email.message.Message]]\n",
    "                The dictionary with emails, retrieved using get_emails_from_folder().\n",
    "\n",
    "        Returns\n",
    "        -------\n",
    "            (Dict) \n",
    "            \n",
    "            {\n",
    "                YEAR: {\n",
    "                    MONTH: {\n",
    "                        1: {\n",
    "                            \"subject\": \"<SUBJECT>\",\n",
    "                            \"text\": \"<TEXT>\",\n",
    "                            \"sender\": \"<SENDER>\"\n",
    "                        }\n",
    "                        ...\n",
    "                        \"counter\": <INT>\n",
    "                    }\n",
    "                    ...\n",
    "                    \"counter\": <INT>\n",
    "                }\n",
    "                \"counter\": <INT>\n",
    "            }\n",
    "    '''\n",
    "    emails = dict()\n",
    "    counter = 0\n",
    "    for year in email_dict:\n",
    "        counter_year = 0\n",
    "        emails[year] = dict()\n",
    "        for month in email_dict[year]:\n",
    "            counter_month = 0\n",
    "            emails[year][month] = dict()\n",
    "            for idx, mail in email_dict[year][month].items():\n",
    "                text = parse_mime_tree(mail)\n",
    "                sender = parse_mime_sender(mail)\n",
    "                subject = parse_mime_subject(mail)\n",
    "                emails[year][month][idx] = {\n",
    "                    \"text\": text,\n",
    "                    \"subject\": subject,\n",
    "                    \"sender\": sender\n",
    "                }\n",
    "                # incrementing counters\n",
    "                counter += 1\n",
    "                counter_year += 1\n",
    "                counter_month += 1\n",
    "            emails[year][month][\"counter\"] = counter_month\n",
    "        emails[year][\"counter\"] = counter_year\n",
    "    emails[\"counter\"] = counter\n",
    "    return emails"
   ]
  },
  {
   "cell_type": "code",
   "execution_count": 10,
   "id": "a8590990",
   "metadata": {},
   "outputs": [
    {
     "name": "stderr",
     "output_type": "stream",
     "text": [
      "/mnt/c/Users/pyris/OneDrive/Dokumente/Projekte/Artikel/2024_Yggdrasil_Artikel/src/parser/MailTextParser.py:42: MarkupResemblesLocatorWarning: The input looks more like a filename than markup. You may want to open this file and pass the filehandle into Beautiful Soup.\n",
      "  return BeautifulSoup(content, \"html.parser\").get_text() # removing html tags and noise\n",
      "/mnt/c/Users/pyris/OneDrive/Dokumente/Projekte/Artikel/2024_Yggdrasil_Artikel/src/parser/MailTextParser.py:42: MarkupResemblesLocatorWarning: The input looks more like a URL than markup. You may want to use an HTTP client like requests to get the document behind the URL, and feed that document to Beautiful Soup.\n",
      "  return BeautifulSoup(content, \"html.parser\").get_text() # removing html tags and noise\n"
     ]
    }
   ],
   "source": [
    "content = get_content_from_emails(emails_all)"
   ]
  },
  {
   "cell_type": "code",
   "execution_count": 11,
   "id": "7d89f393-4dd2-4966-89ba-416d4ec83d88",
   "metadata": {},
   "outputs": [],
   "source": [
    "content_2023 = get_content_from_emails(emails_2023)"
   ]
  },
  {
   "cell_type": "markdown",
   "id": "518a4ec5-4e94-4282-8e33-9ddae5b5798c",
   "metadata": {},
   "source": [
    "## Analyse"
   ]
  },
  {
   "cell_type": "markdown",
   "id": "21a7155e-4cef-49ba-b9b6-d0946c510707",
   "metadata": {},
   "source": [
    "### Betreffszeilen-Analyse"
   ]
  },
  {
   "cell_type": "code",
   "execution_count": 12,
   "id": "2487073a-0549-4e01-97f8-a95188c0c76f",
   "metadata": {},
   "outputs": [],
   "source": [
    "def clean_subject(subject: str) -> str:\n",
    "    '''Function to clean an email-subject using RE.\n",
    "    '''\n",
    "    CLEANING_PATTERN = re.compile(r\"^re:\\s+\\[ygg\\]|^fwd:\\s+\\[ygg\\]|^aw:\\s+\\[ygg\\]|^re:\\s+fwd:\\s+\\[ygg\\]|^\\[ygg\\]|\\baw:|\\bfwd:|\\bfw:|\\bre:|\\[dolmen\\]|\\[candide\\]\", re.IGNORECASE)\n",
    "    subject = re.sub(CLEANING_PATTERN, \" \", subject)\n",
    "    subject = re.sub(r\"\\s{2,}\", \" \", subject)\n",
    "    subject = subject.strip().lower()\n",
    "    return subject"
   ]
  },
  {
   "cell_type": "code",
   "execution_count": 13,
   "id": "07ecb6b2",
   "metadata": {},
   "outputs": [],
   "source": [
    "## get titles related to conferences and cfps\n",
    "\n",
    "def get_specific_subjects(emails_in, pattern) -> Dict[int, Dict[str,Union[List,int]]]:\n",
    "    '''Function to count and collect all subjects matching a RE pattern.\n",
    "\n",
    "        Parameters\n",
    "        ----------\n",
    "            emails_in: Dict[]\n",
    "                The nested content dict from get_content_from_emails().\n",
    "            pattern: re\n",
    "                The RE to match.\n",
    "\n",
    "        Returns\n",
    "        -------\n",
    "            Dictionary:\n",
    "            {\n",
    "                <YEAR>: {\n",
    "                    \"titles\": List[str],\n",
    "                    \"counter\": int\n",
    "                }\n",
    "                counter = int\n",
    "            }\n",
    "    '''\n",
    "    cfp_dict = dict()\n",
    "    # create general counter for all years\n",
    "    cfp_dict[\"counter\"] = 0\n",
    "    for year,months in emails_in.items():\n",
    "        if type(year) == int:\n",
    "            cfp_dict[year] = {\n",
    "                \"titles\": list(),\n",
    "                \"counter\": 0\n",
    "            }\n",
    "            for month,messages in months.items():\n",
    "                if month != \"counter\":\n",
    "                    for _,msg in messages.items():\n",
    "                        if _ != \"counter\":\n",
    "                            cln_subject = clean_subject(msg[\"subject\"]) if msg[\"subject\"] else \"\"\n",
    "                            if re.match(pattern, cln_subject):\n",
    "                                cfp_dict[year][\"titles\"].append(msg[\"subject\"])\n",
    "                                cfp_dict[year][\"counter\"] += 1\n",
    "                                cfp_dict[\"counter\"] += 1\n",
    "\n",
    "    return cfp_dict\n",
    "                    \n",
    "                "
   ]
  },
  {
   "cell_type": "code",
   "execution_count": 14,
   "id": "5a5c5ba3-c92a-4794-9e94-0f4758d251b4",
   "metadata": {},
   "outputs": [],
   "source": [
    "## get titles related to conferences and cfps\n",
    "\n",
    "def get_top_subjects(emails_in) -> Counter:\n",
    "    '''Function to count and collect all subjects.\n",
    "\n",
    "        Parameters\n",
    "        ----------\n",
    "            emails_in: Dict[]\n",
    "                The nested content dict from get_content_from_emails().\n",
    "\n",
    "        Returns\n",
    "        -------\n",
    "            Counter: Counter() object with frequency of cleaned subjects.\n",
    "    '''\n",
    "    counter = Counter()\n",
    "    for year,months in emails_in.items():\n",
    "        if type(year) == int:\n",
    "            for month,messages in months.items():\n",
    "                if month != \"counter\":\n",
    "                    for _,msg in messages.items():\n",
    "                        if _ != \"counter\":\n",
    "                            cln_subject = clean_subject(msg[\"subject\"]) if msg[\"subject\"] else \"\"\n",
    "                            counter[cln_subject] += 1\n",
    "\n",
    "    # remove empty subject lines\n",
    "    if \"\" in counter:\n",
    "        del counter[\"\"]\n",
    "    return counter\n",
    "                    \n",
    "                "
   ]
  },
  {
   "cell_type": "code",
   "execution_count": 15,
   "id": "12fbcdb9",
   "metadata": {},
   "outputs": [
    {
     "name": "stdout",
     "output_type": "stream",
     "text": [
      "Von 647 Nachrichten waren 36 (5.56%) Call for Papers und 12 (1.85%) Ankündigungen (Bücher, Veranstaltungen usw.).\n"
     ]
    }
   ],
   "source": [
    "CFP_RE_PATTERN = re.compile(r\"cfa|cfp|konferenz|conference|call for paper(s)?|tagung\")\n",
    "ANNOUNCEMENTS_RE_PATTERN = re.compile(r\"ankündigung|publikation|publication|bekanntmachung|announcement\")\n",
    "\n",
    "# add content dict to analyze here\n",
    "CONTENT = content_2023\n",
    "\n",
    "# calc stats for topics\n",
    "cfp_subjects_dict = get_specific_subjects(CONTENT, CFP_RE_PATTERN)\n",
    "ann_subjects_dict = get_specific_subjects(CONTENT, ANNOUNCEMENTS_RE_PATTERN)\n",
    "top_subjects = get_top_subjects(CONTENT)\n",
    "print(f\"Von {CONTENT['counter']:,} Nachrichten waren {cfp_subjects_dict['counter']} ({(cfp_subjects_dict['counter']/ CONTENT['counter'])*100:.2f}%) Call for Papers und {ann_subjects_dict['counter']} ({(ann_subjects_dict['counter']/ CONTENT['counter'])*100:.2f}%) Ankündigungen (Bücher, Veranstaltungen usw.).\")"
   ]
  },
  {
   "cell_type": "code",
   "execution_count": 16,
   "id": "08ac84d1-0b34-43ab-8b09-ea5c96a52300",
   "metadata": {},
   "outputs": [
    {
     "data": {
      "text/plain": [
       "[('was? schon drei nicht-theologische professuren für religionswissenschaft in deutschland?',\n",
       "  32),\n",
       " ('religionswissenschaftliche lehre und ki', 30),\n",
       " ('déjà-vu: zeugen jehovas und sektendebatte', 19),\n",
       " ('religiös motivierter terrorismus?', 11),\n",
       " ('neueste erkenntnisse aus der religionswissenschaft', 11),\n",
       " ('ditib (korrektur)', 10),\n",
       " ('boga njet! ausstellung in leipzig', 9),\n",
       " ('king charles iii', 9),\n",
       " ('helmuth von glasenapp', 9),\n",
       " ('maßstäbe außerhalb der wissenschaftlichkeit - ehem.: was? schon drei nicht-theologische professuren für religionswissenschaft in deutschland?',\n",
       "  7)]"
      ]
     },
     "execution_count": 16,
     "metadata": {},
     "output_type": "execute_result"
    }
   ],
   "source": [
    "top_subjects.most_common(10)"
   ]
  },
  {
   "cell_type": "markdown",
   "id": "4d2afe3b-eccd-4363-b581-006d34304879",
   "metadata": {},
   "source": [
    "### Text-Analyse\n",
    "Dieser Teil konzentriert sich auf die Analyse des Nachrichteninhalts einer Auswahl von Nachrichten. Mit der Methode `get_messages_from_specific_subjects()` kann erst eine Auswahl an E-Mails basierend auf einem RE.match der Überschriften erstellt werden. Die Daten für die ausgewählten Mails umfassen:\n",
    "\n",
    "1. Eine lemmatisierte Version des Textes (in Kleinbuchstaben gesetzt, nur alphabetische Wörter).\n",
    "2. Eine Liste mit NEs (*named entitites*) und den NE-Kategorien, die in den Nachrichten vorkommen.\n",
    "\n",
    "Die Analyse besteht in einem BOW der lemmatisierten Nachrichten via `bow()` und einer Auswertung der NEs via `ner()`.\n",
    "\n",
    "Leider sind diese Analysen noch sehr schwierig auszuwerten. So kommen viele Orte, Namen und Phrasen (\"Wenn Sie keine Mails mehr erhalten möchten...\", \"Yggdrasill\" etc.) nur so häufig vor, weil sich der Inhalt von E-Mails durch Zitate in anderen E-Mails wiederholt oder weil Orte bzw. Institutionen wie \"Universität Graz\" von beteiligten Personen in einer Signatur unter den Beiträgen verwendet werden. Diese sagen aber noch nichts über das eigentliche Thema aus.\n"
   ]
  },
  {
   "cell_type": "code",
   "execution_count": 37,
   "id": "426bbf9f-d114-4da0-ba1b-92ac1b4bc68a",
   "metadata": {},
   "outputs": [],
   "source": [
    "def clean_text(text: str, nlp) -> Tuple[str, List[str]]:\n",
    "    '''Function to clean text (message from email) using spaCy and more. Also returns lists of NER.\n",
    "\n",
    "        Parameters\n",
    "        ----------\n",
    "            text: in\n",
    "                The message from the email.\n",
    "            nlp: spaCy pipeline\n",
    "                The spaCy pipeline for the text processing.\n",
    "\n",
    "        Returns\n",
    "        -------\n",
    "            Clean text string.\n",
    "    '''\n",
    "    text = nlp(text)\n",
    "    # lemmata\n",
    "    lemmata = [token.lemma_ for token in text if token.is_alpha and not token.is_stop]\n",
    "    lemmata = [lemma.lower() for lemma in lemmata]\n",
    "    # ners\n",
    "    ner = [(token.text.lower(), token.label_) for token in text.ents]\n",
    "    return (\" \".join(lemmata), ner)"
   ]
  },
  {
   "cell_type": "code",
   "execution_count": 51,
   "id": "83ea1edd-2e0d-4583-aada-611297d2b126",
   "metadata": {},
   "outputs": [],
   "source": [
    "def get_messages_from_specific_subjects(emails_in, pattern) -> Dict[int, Dict[str,Union[List,int]]]:\n",
    "    '''Function to count and collect all messages from emails with subjects matching a RE pattern.\n",
    "\n",
    "        Parameters\n",
    "        ----------\n",
    "            emails_in: Dict[]\n",
    "                The nested content dict from get_content_from_emails().\n",
    "            pattern: re\n",
    "                The RE to match.\n",
    "\n",
    "        Returns\n",
    "        -------\n",
    "            Dictionary:\n",
    "            {\n",
    "                <YEAR>: {\n",
    "                    \"messages\": List[str],\n",
    "                    \"counter\": int\n",
    "                    \"ner\": List[Tuple[str,str]]\n",
    "                }\n",
    "\n",
    "                counter: int\n",
    "            }\n",
    "    '''\n",
    "    cfp_dict = dict()\n",
    "    # create general counter for all years\n",
    "    cfp_dict[\"counter\"] = 0\n",
    "    # create spaCy pipeline to pass to clean_text() later\n",
    "    nlp = spacy.load(\"de_core_news_md\")\n",
    "    for year,months in emails_in.items():\n",
    "        if type(year) == int:\n",
    "            cfp_dict[year] = {\n",
    "                \"messages\": list(),\n",
    "                \"counter\": 0,\n",
    "                \"ner\": list()\n",
    "            }\n",
    "            for month,messages in months.items():\n",
    "                if month != \"counter\":\n",
    "                    for _,msg in messages.items():\n",
    "                        if _ != \"counter\":\n",
    "                            cln_subject = clean_subject(msg[\"subject\"]) if msg[\"subject\"] else \"\"\n",
    "                            if re.match(pattern, cln_subject):\n",
    "                                # only get clean text\n",
    "                                text, ner = clean_text(msg[\"text\"], nlp)\n",
    "                                cfp_dict[year][\"messages\"].append(text)\n",
    "                                cfp_dict[year][\"ner\"].extend(ner)\n",
    "                                cfp_dict[year][\"counter\"] += 1\n",
    "                                cfp_dict[\"counter\"] += 1\n",
    "\n",
    "    return cfp_dict      "
   ]
  },
  {
   "cell_type": "code",
   "execution_count": 52,
   "id": "b58fec6a-bcc9-4645-9754-ebf10c135c81",
   "metadata": {},
   "outputs": [],
   "source": [
    "def bow(messages_dict: dict) -> Counter:\n",
    "    '''Function to create a simple bag-of-words Counter() from a dictionary with messages from emails.\n",
    "    '''\n",
    "    cnt = Counter()\n",
    "    for year,data in messages_dict.items():\n",
    "        if type(year) == int:\n",
    "            for k,v in data.items():\n",
    "                if k == \"messages\":\n",
    "                    for text in v:\n",
    "                        cnt.update(text.split())\n",
    "    return cnt\n",
    "    "
   ]
  },
  {
   "cell_type": "code",
   "execution_count": 58,
   "id": "a664f926-9de6-407f-ac6e-5836e1af7c76",
   "metadata": {},
   "outputs": [],
   "source": [
    "def ner_analysis(messages_dict: dict) -> Tuple[Counter]:\n",
    "    '''Function to analyze list of ners in dictionary created with get_messages_from_specific_subjects().\n",
    "    '''\n",
    "    cnt_text = Counter()\n",
    "    cnt_label = Counter()\n",
    "    for year,data in messages_dict.items():\n",
    "        if type(year) == int:\n",
    "            for k,v in data.items():\n",
    "                if k == \"ner\":\n",
    "                    for tpl in v:\n",
    "                        cnt_text.update([tpl[0]])\n",
    "                        cnt_label.update([tpl[1]])\n",
    "    return (cnt_text, cnt_label)"
   ]
  },
  {
   "cell_type": "code",
   "execution_count": 54,
   "id": "a6810d4d-ea54-4869-8213-5cd47da91bf6",
   "metadata": {},
   "outputs": [],
   "source": [
    "# get specific subject\n",
    "spec_sub_dict = get_messages_from_specific_subjects(CONTENT, re.compile(r\"religionswissenschaftliche lehre und ki\"))"
   ]
  },
  {
   "cell_type": "code",
   "execution_count": 55,
   "id": "ac8d2547-45ac-424f-8f1f-d583b205aa64",
   "metadata": {},
   "outputs": [],
   "source": [
    "#bow(spec_sub_dict)"
   ]
  },
  {
   "cell_type": "code",
   "execution_count": 60,
   "id": "bd1bcb37-0992-4b2a-9e5f-9ac3a7c092dc",
   "metadata": {},
   "outputs": [],
   "source": [
    "#ner_analysis(spec_sub_dict)"
   ]
  },
  {
   "cell_type": "markdown",
   "id": "c60677d8-202c-4cc9-a184-f37feaf78aef",
   "metadata": {},
   "source": [
    "### Autoren-Analyse"
   ]
  },
  {
   "cell_type": "code",
   "execution_count": null,
   "id": "d2d0cdf9-1e31-4cf0-9e97-a857d967d641",
   "metadata": {},
   "outputs": [],
   "source": [
    "def clean_sender(sender: str) -> str:\n",
    "    '''Function to clean an email-from field using RE.\n",
    "    '''\n",
    "    SEARCH_PATTERN = re.compile(r\"\\b[A-Za-z0-9._%+-]+@[A-Za-z0-9.-]+\\.[A-Z|a-z]{2,}\\b\", re.IGNORECASE)\n",
    "    sender_clean = re.findall(SEARCH_PATTERN, sender)\n",
    "    sender_clean = sender_clean[0].strip().lower() if len(sender_clean) > 0 else \"\"\n",
    "    if sender_clean == \"yggdrasill@lists.uni-marburg.de\":\n",
    "        # if the sender was the mailing list, try and find the name of the sender instead of email\n",
    "        sender_clean = re.findall(r'^.*?[(<]', sender)\n",
    "        sender_clean = sender_clean[0].strip().lower() if len(sender_clean) > 0 else \"\"\n",
    "        sender_clean = re.sub(r\"\\W+\", \" \", sender_clean)\n",
    "        sender_clean = re.sub(r\"\\s{2,}\", \" \", sender_clean)\n",
    "    return sender_clean.strip()"
   ]
  },
  {
   "cell_type": "code",
   "execution_count": null,
   "id": "8bbcad4b-438f-4f51-940c-47f5b70a87b2",
   "metadata": {},
   "outputs": [],
   "source": [
    "def get_top_sender(emails_in) -> Counter:\n",
    "    '''Function to count and collect sender.\n",
    "\n",
    "        Parameters\n",
    "        ----------\n",
    "            emails_in: Dict[]\n",
    "                The nested content dict from get_content_from_emails().\n",
    "\n",
    "        Returns\n",
    "        -------\n",
    "            Counter: Counter() object with frequency of cleaned sender data.\n",
    "    '''\n",
    "    counter = Counter()\n",
    "    for year,months in emails_in.items():\n",
    "        if type(year) == int:\n",
    "            for month,messages in months.items():\n",
    "                if month != \"counter\":\n",
    "                    for _,msg in messages.items():\n",
    "                        if _ != \"counter\":\n",
    "                            cln_sender = clean_sender(msg[\"sender\"]) if msg[\"sender\"] else \"\"\n",
    "                            counter[cln_sender] += 1\n",
    "    return counter\n",
    "                    \n",
    "                "
   ]
  },
  {
   "cell_type": "code",
   "execution_count": null,
   "id": "95b603e8-d20a-4228-8f8f-c819b911e00d",
   "metadata": {},
   "outputs": [],
   "source": [
    "sender_counter = get_top_sender(content_2023)"
   ]
  },
  {
   "cell_type": "code",
   "execution_count": null,
   "id": "2d81fc70-deb3-4799-8321-0254c6350d27",
   "metadata": {},
   "outputs": [],
   "source": [
    "sender_counter.most_common(10)"
   ]
  },
  {
   "cell_type": "code",
   "execution_count": 61,
   "id": "87d564d3-6644-4195-a1bc-22f632c96f23",
   "metadata": {},
   "outputs": [],
   "source": [
    "# TODO: via OpenAI API hier eine Klassifizierung durchführen, ob es sich um Männer/Frauen handelt?"
   ]
  },
  {
   "cell_type": "markdown",
   "id": "6cd09abe-1d86-4512-ad5a-0e9e907ea7bd",
   "metadata": {},
   "source": [
    "### Visualisierungen"
   ]
  },
  {
   "cell_type": "code",
   "execution_count": null,
   "id": "5e4d3a4d-858b-4a1b-bc62-da2b1410ba4c",
   "metadata": {},
   "outputs": [],
   "source": [
    "import matplotlib.pyplot as plt\n",
    "import pandas as pd\n",
    "import seaborn as sns\n",
    "\n",
    "# Create a line plot with enhanced styling\n",
    "sns.set_style(\"whitegrid\")  # Set the background style\n",
    "sns.set_palette(\"viridis\")  # Set the color palette\n",
    "\n",
    "def plot_posts_per_year(emails):\n",
    "    '''Function to plot the number of posts per year.\n",
    "    \n",
    "    '''\n",
    "    dict_ = dict()\n",
    "    for year,data in emails.items():\n",
    "        if type(year) == int:\n",
    "            dict_[str(year)] = data[\"counter\"]\n",
    "    df = pd.DataFrame(dict_.items(), columns=[\"Year\", \"Posts\"])\n",
    "    sns.lineplot(x=df[\"Year\"], y=df[\"Posts\"], marker='o', markersize=8, linestyle='-', linewidth=2)\n",
    "    plt.title(f\"Posts per Year\", fontsize=16)\n",
    "    plt.xlabel(\"Year\", fontsize=13)\n",
    "    plt.xticks(rotation=45)\n",
    "    plt.ylabel(\"Posts\", fontsize=13)\n",
    "    plt.tight_layout()\n",
    "    plt.savefig(f\"yearly_stats.png\")\n",
    "    "
   ]
  },
  {
   "cell_type": "code",
   "execution_count": null,
   "id": "6309a08e-502b-4849-8070-c92efb393750",
   "metadata": {},
   "outputs": [],
   "source": [
    "plot_posts_per_year(content)"
   ]
  },
  {
   "cell_type": "code",
   "execution_count": null,
   "id": "39262418-7b20-44a0-a778-55880b2b4842",
   "metadata": {},
   "outputs": [],
   "source": [
    "def plot_posts_in_year(emails, year: int):\n",
    "    '''Function to plot the number of posts/month of a particular year.\n",
    "    \n",
    "    '''\n",
    "    dict_ = dict()\n",
    "    for month,data in emails[year].items():\n",
    "        if month != \"counter\":\n",
    "            dict_[MONTH_MAPPING[month]] = data[\"counter\"]\n",
    "    df = pd.DataFrame(dict_.items(), columns=[\"Month\", \"Posts\"])\n",
    "    sns.lineplot(x=df[\"Month\"], y=df[\"Posts\"], marker='o', markersize=8, linestyle='-', linewidth=2)\n",
    "    plt.title(f\"Posts in {year}\", fontsize=16)\n",
    "    plt.xlabel(\"Month\", fontsize=13)\n",
    "    plt.xticks(rotation=45)\n",
    "    plt.ylabel(\"Posts\", fontsize=13)\n",
    "    plt.tight_layout()\n",
    "    plt.savefig(f\"posts_in_{year}.png\")\n",
    "    "
   ]
  },
  {
   "cell_type": "code",
   "execution_count": null,
   "id": "739691b4-e845-42d5-ab07-db854ea8ca47",
   "metadata": {},
   "outputs": [],
   "source": [
    "plot_posts_in_year(content,2023)"
   ]
  },
  {
   "cell_type": "code",
   "execution_count": null,
   "id": "ecdf354b-b6a2-479c-bca5-112aaa77a11a",
   "metadata": {},
   "outputs": [],
   "source": []
  }
 ],
 "metadata": {
  "kernelspec": {
   "display_name": "Python 3 (ipykernel)",
   "language": "python",
   "name": "python3"
  },
  "language_info": {
   "codemirror_mode": {
    "name": "ipython",
    "version": 3
   },
   "file_extension": ".py",
   "mimetype": "text/x-python",
   "name": "python",
   "nbconvert_exporter": "python",
   "pygments_lexer": "ipython3",
   "version": "3.12.0"
  }
 },
 "nbformat": 4,
 "nbformat_minor": 5
}
