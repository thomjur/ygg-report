{
 "cells": [
  {
   "cell_type": "code",
   "execution_count": 21,
   "id": "5ffb7ac5",
   "metadata": {},
   "outputs": [],
   "source": [
    "import glob\n",
    "import pandas as pd\n",
    "import email\n",
    "from email import policy\n",
    "from src.parser.MailTextParser import parse_mime_tree\n",
    "from src.parser.MailSubjectParser import parse_mime_subject\n",
    "from src.parser.MailSenderParser import parse_mime_sender\n",
    "from typing import Dict, List, Optional, Tuple\n",
    "import re"
   ]
  },
  {
   "cell_type": "markdown",
   "id": "0d691d97-e72c-4148-bd2b-2a6dda2145ab",
   "metadata": {},
   "source": [
    "## TODO\n",
    "\n",
    "1. Mail Distribution YEAR, MONTH\n",
    "2. SUBJECT ANALYSIS\n",
    "3. SENDER ANALYSIS (cleaning first)\n",
    "4. TEXT ANALYSIS (cleaning first)"
   ]
  },
  {
   "cell_type": "markdown",
   "id": "2d391718-b77c-47b6-927e-033f92c97785",
   "metadata": {},
   "source": [
    "## Helper stuff\n"
   ]
  },
  {
   "cell_type": "code",
   "execution_count": 2,
   "id": "ba0e3dd7-7411-4f11-9236-7cbc4e7f74a0",
   "metadata": {},
   "outputs": [],
   "source": [
    "MONTH_MAPPING = {\n",
    "    \"01\": \"JAN\",\n",
    "    \"02\": \"FEB\",\n",
    "    \"03\": \"MAR\",\n",
    "    \"04\": \"APR\",\n",
    "    \"05\": \"MAI\",\n",
    "    \"06\": \"JUN\",\n",
    "    \"07\": \"JUL\",\n",
    "    \"08\": \"AUG\",\n",
    "    \"09\": \"SEP\",\n",
    "    \"10\": \"OCT\",\n",
    "    \"11\": \"NOV\",\n",
    "    \"12\": \"DEC\"\n",
    "}"
   ]
  },
  {
   "cell_type": "code",
   "execution_count": 3,
   "id": "8972551a-da0b-4030-a6fd-df9fc774c28b",
   "metadata": {},
   "outputs": [],
   "source": [
    "def guess_encoding(file_path):\n",
    "    encodings = ['utf-8', 'iso-8859-1', 'windows-1252']  # Add more as needed\n",
    "    for enc in encodings:\n",
    "        try:\n",
    "            with open(file_path, encoding=enc) as file:\n",
    "                file.read()\n",
    "                return enc\n",
    "        except UnicodeDecodeError:\n",
    "            continue\n",
    "    return None"
   ]
  },
  {
   "cell_type": "markdown",
   "id": "dd77a87d-36a7-484b-9909-e5d6ec933330",
   "metadata": {},
   "source": [
    "## MAIN FUNCTIONS"
   ]
  },
  {
   "cell_type": "code",
   "execution_count": 4,
   "id": "a3d72e7b",
   "metadata": {},
   "outputs": [],
   "source": [
    "def get_emails_from_folder(year_range: Tuple[int,int]) -> Dict[int, Dict[str, Dict[int, email.message.Message]]]:\n",
    "    '''Get all emails from email folders stored under data/.\n",
    "\n",
    "        Parameters\n",
    "        ----------\n",
    "            year_range: Tuple(int,int)\n",
    "                The year range, where starting year is _inclusive_ and end year is _exclusive_.\n",
    "\n",
    "        Returns\n",
    "        -------\n",
    "            (Dict) \n",
    "            \n",
    "            {\n",
    "                YEAR: {\n",
    "                    MONTH: {\n",
    "                        1: <email.message.Message>\n",
    "                    }\n",
    "                    ...\n",
    "                }\n",
    "            }\n",
    "    '''\n",
    "    emails = dict()\n",
    "    counter = 0\n",
    "    for year in range(year_range[0],year_range[1]):\n",
    "        emails[year] = dict()\n",
    "        for month in MONTH_MAPPING:\n",
    "            emails[year][month] = dict()\n",
    "            for idx, file in enumerate(glob.glob(f\"data/{year}/yggdrasill_{year}-{month}/*\")):\n",
    "                # guess encoding first, since there are quite a few non-UTF-8 mails\n",
    "                enc = guess_encoding(file)\n",
    "                with open(file, \"r\", encoding=enc) as f:\n",
    "                    emails[year][month][idx] = email.message_from_file(f, policy=policy.default) # the policy-default is very important for subject titles\n",
    "                    counter += 1\n",
    "    print(f\"Received {counter} emails from {year_range[0]} to {year_range[1]-1}.\") \n",
    "    return emails"
   ]
  },
  {
   "cell_type": "code",
   "execution_count": 5,
   "id": "d3962d0e",
   "metadata": {},
   "outputs": [
    {
     "name": "stdout",
     "output_type": "stream",
     "text": [
      "Received 615 emails from 2023 to 2023.\n"
     ]
    }
   ],
   "source": [
    "emails = get_emails_from_folder((2023,2024))"
   ]
  },
  {
   "cell_type": "code",
   "execution_count": null,
   "id": "bba5bc1c",
   "metadata": {},
   "outputs": [],
   "source": [
    "#emails"
   ]
  },
  {
   "cell_type": "code",
   "execution_count": 6,
   "id": "e2b17094",
   "metadata": {},
   "outputs": [],
   "source": [
    "def get_content_from_emails(email_dict: Dict[int, Dict[str, Dict[int, email.message.Message]]]) -> Dict:\n",
    "    '''Extract CONTENT, SUBJECT, SENDER from emails retrieved via get_emails_from_folder().\n",
    "\n",
    "        Parameters\n",
    "        ----------\n",
    "            email_dict: Dict[str, Dict[str, Dict[int, email.message.Message]]\n",
    "                The dictionary with emails, retrieved using get_emails_from_folder().\n",
    "\n",
    "        Returns\n",
    "        -------\n",
    "            (Dict) \n",
    "            \n",
    "            {\n",
    "                YEAR: {\n",
    "                    MONTH: {\n",
    "                        1: {\n",
    "                            \"subject\": \"<SUBJECT>\",\n",
    "                            \"text\": \"<TEXT>\",\n",
    "                            \"sender\": \"<SENDER>\"\n",
    "                        }\n",
    "                        ...\n",
    "                        \"counter\": <INT>\n",
    "                    }\n",
    "                    ...\n",
    "                    \"counter\": <INT>\n",
    "                }\n",
    "                \"counter\": <INT>\n",
    "            }\n",
    "    '''\n",
    "    emails = dict()\n",
    "    counter = 0\n",
    "    for year in email_dict:\n",
    "        counter_year = 0\n",
    "        emails[year] = dict()\n",
    "        for month in email_dict[year]:\n",
    "            counter_month = 0\n",
    "            emails[year][month] = dict()\n",
    "            for idx, mail in email_dict[year][month].items():\n",
    "                text = parse_mime_tree(mail)\n",
    "                sender = parse_mime_sender(mail)\n",
    "                subject = parse_mime_subject(mail)\n",
    "                emails[year][month][idx] = {\n",
    "                    \"text\": text,\n",
    "                    \"subject\": subject,\n",
    "                    \"sender\": sender\n",
    "                }\n",
    "                # incrementing counters\n",
    "                counter += 1\n",
    "                counter_year += 1\n",
    "                counter_month += 1\n",
    "            emails[year][month][\"counter\"] = counter_month\n",
    "        emails[year][\"counter\"] = counter_year\n",
    "    emails[\"counter\"] = counter\n",
    "    return emails"
   ]
  },
  {
   "cell_type": "code",
   "execution_count": 7,
   "id": "a8590990",
   "metadata": {},
   "outputs": [
    {
     "name": "stderr",
     "output_type": "stream",
     "text": [
      "/mnt/c/Users/pyris/OneDrive/Dokumente/Projekte/Artikel/2024_Yggdrasil_Artikel/src/parser/MailTextParser.py:42: MarkupResemblesLocatorWarning: The input looks more like a filename than markup. You may want to open this file and pass the filehandle into Beautiful Soup.\n",
      "  return BeautifulSoup(content, \"html.parser\").get_text() # removing html tags and noise\n"
     ]
    }
   ],
   "source": [
    "content = get_content_from_emails(emails)"
   ]
  },
  {
   "cell_type": "code",
   "execution_count": 9,
   "id": "26e63bc4",
   "metadata": {},
   "outputs": [
    {
     "data": {
      "text/plain": [
       "615"
      ]
     },
     "execution_count": 9,
     "metadata": {},
     "output_type": "execute_result"
    }
   ],
   "source": [
    "content[2023][\"counter\"]"
   ]
  },
  {
   "cell_type": "code",
   "execution_count": 10,
   "id": "320e13c0",
   "metadata": {},
   "outputs": [],
   "source": [
    "# sanity check\n",
    "sum_ = 0\n",
    "for y in content:\n",
    "    if type(y) == int:\n",
    "        for m in content[y]:\n",
    "            if m != \"counter\":\n",
    "                sum_ += content[y][m][\"counter\"]\n",
    "\n",
    "assert sum_ == content[\"counter\"]"
   ]
  },
  {
   "cell_type": "markdown",
   "id": "518a4ec5-4e94-4282-8e33-9ddae5b5798c",
   "metadata": {},
   "source": [
    "## Testing"
   ]
  },
  {
   "cell_type": "code",
   "execution_count": 32,
   "id": "3e1653b4-9045-48a0-b8e1-df7cd0f5f2a8",
   "metadata": {},
   "outputs": [],
   "source": [
    "clean_subject = re.compile(r\"^re:\\s+\\[ygg\\]|^fwd:\\s+\\[ygg\\]|^aw:\\s+\\[ygg\\]|^re:\\s+fwd:\\s+\\[ygg\\]|^\\[ygg\\]|\\baw:|\\bfwd:|\\bfw:|\\bre:\", re.IGNORECASE)"
   ]
  },
  {
   "cell_type": "code",
   "execution_count": 33,
   "id": "428dcb06",
   "metadata": {},
   "outputs": [
    {
     "name": "stdout",
     "output_type": "stream",
     "text": [
      "=====================================\n",
      " Filme zu religiösen Minderheiten in Pakistan\n",
      "=====================================\n",
      " Buch-Neuerscheinung: Der MANICHÄISMUS\n",
      "=====================================\n",
      " Buch-Neuerscheinung: Der MANICHÄISMUS\n",
      "=====================================\n",
      " CALL_Sammelbandvorhaben \"Religion/en - Autorität - Vergemeinschaftung\", Abstracts bis 04.12.23\n",
      "=====================================\n",
      " DITIB (Korrektur)\n",
      "=====================================\n",
      " DITIB (Korrektur)\n",
      "=====================================\n",
      " DITIB (Korrektur)\n",
      "=====================================\n",
      " DITIB (Korrektur)\n",
      "=====================================\n",
      " DITIB (Korrektur)\n",
      "=====================================\n",
      " DITIB (Korrektur)\n",
      "=====================================\n",
      " DITIB (Korrektur)\n",
      "=====================================\n",
      " DITIB (Korrektur)\n",
      "=====================================\n",
      " DITIB (Korrektur)\n",
      "=====================================\n",
      " Gāyatrī-Mantra| Neuerscheinung\n",
      "=====================================\n",
      " Gāyatrī-Mantra| Neuerscheinung\n",
      "=====================================\n",
      " IchHalteDich e.V\n",
      "=====================================\n",
      " Stellenausschreibung Pädagogische Referentin (m/w/d)\n",
      "=====================================\n",
      " Theologie und - keine Religionswissenschaft\n",
      "=====================================\n",
      "{'text': None, 'subject': None, 'sender': None}\n",
      "=====================================\n",
      "{'text': None, 'subject': None, 'sender': None}\n",
      "=====================================\n",
      " Theologie und - keine Religionswissenschaft\n",
      "=====================================\n",
      "{'text': None, 'subject': None, 'sender': None}\n",
      "=====================================\n",
      " A.Testa, Ritualising Cultural Heritage and Re-enchanting Rituals in Europe, Carolina Academic Press, Durham, NC, 2023/24\n",
      "=====================================\n",
      " Anfrage zu ZWWA e.V.\n",
      "=====================================\n",
      " Book Discussion Event, Jan 19, ‘24: \"The Efficacy of Intimacy & Belief in Worldmaking Practices”\n",
      "=====================================\n",
      " Buch-Neuerscheinung: Der MANICHÄISMUS\n",
      "=====================================\n",
      " CANCELLED -Today's Public lecture (hybrid) Dr. Cosima Wagner \"Challenging Classification Systems of the ‘Global North’: The Modern Religious Bookshelf from an Area Studies Librarian’s Perspective\"\n",
      "=====================================\n",
      " CAS-E: Vortrag von Jason Josephson Storm am 6. Dezember\n",
      "=====================================\n",
      " CfP \"Bruno Latour and the Study of Religion\"\n",
      "=====================================\n",
      " CFP - ESHS2024: Science-and-Religion, Atheism, Secularism. Entangled histories\n",
      "=====================================\n",
      " CfP: Digital religion meets politics\n",
      "=====================================\n",
      " CfP for the EASR 2024 is out!\n",
      "=====================================\n",
      " CFP: Sciences, ideologies, and religions in 20th century Central, Eastern and Southeastern Europe. June 6-7, 2024, Athens/Greece\n",
      "=====================================\n",
      " Das Verhältnis zwischen kollektiver Psychologie und Sozialpsychologie aus einer Religionswissenschaftlichen Perspektive\n",
      "=====================================\n",
      " DITIB (Korrektur)\n",
      "=====================================\n",
      " DITIB\n",
      "=====================================\n",
      " Einladung zum 2. Colloquium on Latin America (online)\n",
      "=====================================\n",
      " Einladung zur AKMN-Sitzung am 10.11.2023, 11:00 Uhr\n",
      "=====================================\n",
      " Erinnerung: DFG Fachkollegienwahl 2023 – Letzte Chance zur Stimmabgabe bis heute 20.11.23, 14:00\n",
      "=====================================\n",
      " Filme zu religiösen Minderheiten in Pakistan\n",
      "=====================================\n",
      "   Opportunity for Emerging Translators: 2024 ALTA Emerging Translator Mentorship Program\n",
      "=====================================\n",
      "  New HASP publication - The Play of the Feminine by Ina Marie Lunde Ilkama. Ethno-Indology ; vol. 16\n",
      "=====================================\n",
      "  Stellenausschreibung an der Universität Würzburg\n",
      "=====================================\n",
      "  [Neuerscheinung] Viśeṣastava\n",
      "=====================================\n",
      "   Programm der Tagung \"Politischer Islamismus und autoritärer Nationalismus\" am 29. und 30.11.2023 an der Universität Münster; Anmeldeschluss 15.11.2023\n",
      "=====================================\n",
      "  Zwei Stellen als wissenschaftliche Projektkoordinator_innen an der AIWG ausgeschrieben\n",
      "=====================================\n",
      " Gāyatrī-Mantra | Neuerscheinung\n",
      "=====================================\n",
      " HEUTE! RelBib LunchTalk: Vorstellung des neuen Self-Archiving Service 13-14 Uhr\n",
      "=====================================\n",
      " IchHalteDich e.V\n",
      "=====================================\n",
      " Invitation - Network Meeting for Junior Researchers in Religion & AI 15-16 Feb 2024\n",
      "=====================================\n",
      " Jahresband Türkisch-Deutsche Perspektiven / Türk-Alman Bakış Açıları, 1/2023\n",
      "=====================================\n",
      " Neue Ausgabe des Journal for Religion, Film and Media (JRFM) \"Here Be Dragons (East)Asian Film and Religion\" jetzt erschienen\n",
      "=====================================\n",
      " Neuerscheinung \"Stadt und Religion\"\n",
      "=====================================\n",
      " PhD position -- ancient origins of vegetarianism/veganism\n",
      "=====================================\n",
      " Public lecture (hybrid) Dr. Cosima Wagner \"Challenging Classification Systems of the ‘Global North’: The Modern Religious Bookshelf from an Area Studies Librarian’s Perspective\"\n",
      "=====================================\n",
      " Publikationsankündigung (Terwiel, Thema: \"khwan\" 'Seele')\n",
      "=====================================\n",
      "  Registration Open \"Pentecostalism and Gender\" 09-10.02.24, Heidelberg\n",
      "=====================================\n",
      " Reminder: \"Ethnographical Sensations\" Workshop - Updated Program Attached\n",
      "=====================================\n",
      " Stellenangebot Religionswissenschaft Uni Marburg\n",
      "=====================================\n",
      "{'text': None, 'subject': None, 'sender': None}\n",
      "=====================================\n",
      " Stellenausschreibung Pädagogische Referentin (m/w/d)\n",
      "=====================================\n",
      " Theologie und - keine Religionswissenschaft\n",
      "=====================================\n",
      "{'text': None, 'subject': None, 'sender': None}\n",
      "=====================================\n",
      " Thinking and Believing: al-Jahiz on Religious Knowledge\n",
      "=====================================\n",
      " Tominaga-Übersetzung\n",
      "=====================================\n",
      " Veröffentlichungshinweis\n",
      "=====================================\n",
      " Vorstellung der neuen Sprecher:innen des AKMN\n",
      "=====================================\n",
      " Vortrag von Prof. Bron Taylor (Florida)\n"
     ]
    }
   ],
   "source": [
    "for idx,mail in content[2023][\"11\"].items():\n",
    "    if type(idx) != str:\n",
    "        print(\"=====================================\")\n",
    "        if mail[\"subject\"] == None:\n",
    "            print(mail)\n",
    "        else:\n",
    "            print(re.sub(clean_subject, \"\", mail[\"subject\"]))\n",
    "        "
   ]
  },
  {
   "cell_type": "code",
   "execution_count": null,
   "id": "07ecb6b2",
   "metadata": {},
   "outputs": [],
   "source": []
  },
  {
   "cell_type": "code",
   "execution_count": null,
   "id": "12fbcdb9",
   "metadata": {},
   "outputs": [],
   "source": []
  }
 ],
 "metadata": {
  "kernelspec": {
   "display_name": "Python 3 (ipykernel)",
   "language": "python",
   "name": "python3"
  },
  "language_info": {
   "codemirror_mode": {
    "name": "ipython",
    "version": 3
   },
   "file_extension": ".py",
   "mimetype": "text/x-python",
   "name": "python",
   "nbconvert_exporter": "python",
   "pygments_lexer": "ipython3",
   "version": "3.12.0"
  }
 },
 "nbformat": 4,
 "nbformat_minor": 5
}
